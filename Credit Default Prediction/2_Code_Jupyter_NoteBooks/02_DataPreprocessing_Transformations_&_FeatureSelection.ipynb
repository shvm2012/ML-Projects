{
 "cells": [
  {
   "cell_type": "markdown",
   "metadata": {},
   "source": [
    "### NoteBook Contents ( DataPreprocessing Transformations & FeatureSelection):\n",
    "        > 1. Seperating Numeric and Categorical features, assigning categories to categories not in the dataset description \n",
    "        > 2. Splitting the Data into Training and Test Set\n",
    "        > 3. Missing Values Imputation\n",
    "        > 4. Data standardization\n",
    "        > 5. Saving training and test data"
   ]
  },
  {
   "cell_type": "markdown",
   "metadata": {},
   "source": [
    "#### Importing Essential Data handling libraries"
   ]
  },
  {
   "cell_type": "code",
   "execution_count": 99,
   "metadata": {},
   "outputs": [
    {
     "data": {
      "text/html": [
       "<style>.container { width:100% !important; }</style>"
      ],
      "text/plain": [
       "<IPython.core.display.HTML object>"
      ]
     },
     "metadata": {},
     "output_type": "display_data"
    }
   ],
   "source": [
    "import pandas as pd\n",
    "import numpy as np\n",
    "\n",
    "import matplotlib as mpl\n",
    "import matplotlib.pyplot as plt\n",
    "import seaborn as sns\n",
    "\n",
    "import warnings\n",
    "warnings.filterwarnings(\"ignore\")\n",
    "\n",
    "%matplotlib inline\n",
    "\n",
    "import time\n",
    "from math import floor\n",
    "from time import perf_counter\n",
    "from tqdm import tqdm\n",
    "\n",
    "pd.set_option('display.max_columns', 100)\n",
    "pd.set_option('display.float_format', lambda x: '%.3f' % x)\n",
    "\n",
    "from IPython.core.display import display, HTML\n",
    "display(HTML(\"<style>.container { width:100% !important; }</style>\"))"
   ]
  },
  {
   "cell_type": "code",
   "execution_count": 100,
   "metadata": {},
   "outputs": [],
   "source": [
    "from sklearn.model_selection import train_test_split\n",
    "from sklearn.preprocessing import OneHotEncoder\n",
    "from sklearn.impute import KNNImputer\n",
    "from sklearn.preprocessing import QuantileTransformer\n",
    "from sklearn.feature_selection import VarianceThreshold\n",
    "from sklearn.preprocessing import StandardScaler"
   ]
  },
  {
   "cell_type": "markdown",
   "metadata": {},
   "source": [
    "#### Loading Data"
   ]
  },
  {
   "cell_type": "code",
   "execution_count": 101,
   "metadata": {},
   "outputs": [],
   "source": [
    "df_master = pd.read_csv(\"..\\\\0_Modeling_Data\\\\data.csv\") ## looking for dataset ,up one directory"
   ]
  },
  {
   "cell_type": "code",
   "execution_count": 102,
   "metadata": {},
   "outputs": [],
   "source": [
    "df_raw = df_master.copy()"
   ]
  },
  {
   "cell_type": "code",
   "execution_count": 103,
   "metadata": {},
   "outputs": [],
   "source": [
    "## Dropping \"ID\" field since its a unique identifier \n",
    "df_raw.drop(\"ID\", axis = 1, inplace = True)"
   ]
  },
  {
   "cell_type": "code",
   "execution_count": 104,
   "metadata": {},
   "outputs": [
    {
     "data": {
      "text/plain": [
       "(30000, 24)"
      ]
     },
     "execution_count": 104,
     "metadata": {},
     "output_type": "execute_result"
    }
   ],
   "source": [
    "df_raw.shape "
   ]
  },
  {
   "cell_type": "code",
   "execution_count": 105,
   "metadata": {},
   "outputs": [
    {
     "data": {
      "text/html": [
       "<div>\n",
       "<style scoped>\n",
       "    .dataframe tbody tr th:only-of-type {\n",
       "        vertical-align: middle;\n",
       "    }\n",
       "\n",
       "    .dataframe tbody tr th {\n",
       "        vertical-align: top;\n",
       "    }\n",
       "\n",
       "    .dataframe thead th {\n",
       "        text-align: right;\n",
       "    }\n",
       "</style>\n",
       "<table border=\"1\" class=\"dataframe\">\n",
       "  <thead>\n",
       "    <tr style=\"text-align: right;\">\n",
       "      <th></th>\n",
       "      <th>LIMIT_BAL</th>\n",
       "      <th>SEX</th>\n",
       "      <th>EDUCATION</th>\n",
       "      <th>MARRIAGE</th>\n",
       "      <th>AGE</th>\n",
       "      <th>PAY_0</th>\n",
       "      <th>PAY_2</th>\n",
       "      <th>PAY_3</th>\n",
       "      <th>PAY_4</th>\n",
       "      <th>PAY_5</th>\n",
       "      <th>PAY_6</th>\n",
       "      <th>BILL_AMT1</th>\n",
       "      <th>BILL_AMT2</th>\n",
       "      <th>BILL_AMT3</th>\n",
       "      <th>BILL_AMT4</th>\n",
       "      <th>BILL_AMT5</th>\n",
       "      <th>BILL_AMT6</th>\n",
       "      <th>PAY_AMT1</th>\n",
       "      <th>PAY_AMT2</th>\n",
       "      <th>PAY_AMT3</th>\n",
       "      <th>PAY_AMT4</th>\n",
       "      <th>PAY_AMT5</th>\n",
       "      <th>PAY_AMT6</th>\n",
       "      <th>default payment next month</th>\n",
       "    </tr>\n",
       "  </thead>\n",
       "  <tbody>\n",
       "    <tr>\n",
       "      <th>0</th>\n",
       "      <td>20000.000</td>\n",
       "      <td>2</td>\n",
       "      <td>2</td>\n",
       "      <td>1</td>\n",
       "      <td>24</td>\n",
       "      <td>2</td>\n",
       "      <td>2</td>\n",
       "      <td>-1</td>\n",
       "      <td>-1</td>\n",
       "      <td>-2</td>\n",
       "      <td>-2</td>\n",
       "      <td>3913.000</td>\n",
       "      <td>3102.000</td>\n",
       "      <td>689.000</td>\n",
       "      <td>0.000</td>\n",
       "      <td>0.000</td>\n",
       "      <td>0.000</td>\n",
       "      <td>0</td>\n",
       "      <td>689</td>\n",
       "      <td>0</td>\n",
       "      <td>0</td>\n",
       "      <td>0</td>\n",
       "      <td>0</td>\n",
       "      <td>1</td>\n",
       "    </tr>\n",
       "    <tr>\n",
       "      <th>1</th>\n",
       "      <td>120000.000</td>\n",
       "      <td>2</td>\n",
       "      <td>2</td>\n",
       "      <td>2</td>\n",
       "      <td>26</td>\n",
       "      <td>-1</td>\n",
       "      <td>2</td>\n",
       "      <td>0</td>\n",
       "      <td>0</td>\n",
       "      <td>0</td>\n",
       "      <td>2</td>\n",
       "      <td>2682.000</td>\n",
       "      <td>1725.000</td>\n",
       "      <td>2682.000</td>\n",
       "      <td>3272.000</td>\n",
       "      <td>3455.000</td>\n",
       "      <td>3261.000</td>\n",
       "      <td>0</td>\n",
       "      <td>1000</td>\n",
       "      <td>1000</td>\n",
       "      <td>1000</td>\n",
       "      <td>0</td>\n",
       "      <td>2000</td>\n",
       "      <td>1</td>\n",
       "    </tr>\n",
       "    <tr>\n",
       "      <th>2</th>\n",
       "      <td>90000.000</td>\n",
       "      <td>2</td>\n",
       "      <td>2</td>\n",
       "      <td>2</td>\n",
       "      <td>34</td>\n",
       "      <td>0</td>\n",
       "      <td>0</td>\n",
       "      <td>0</td>\n",
       "      <td>0</td>\n",
       "      <td>0</td>\n",
       "      <td>0</td>\n",
       "      <td>29239.000</td>\n",
       "      <td>14027.000</td>\n",
       "      <td>13559.000</td>\n",
       "      <td>14331.000</td>\n",
       "      <td>14948.000</td>\n",
       "      <td>15549.000</td>\n",
       "      <td>1518</td>\n",
       "      <td>1500</td>\n",
       "      <td>1000</td>\n",
       "      <td>1000</td>\n",
       "      <td>1000</td>\n",
       "      <td>5000</td>\n",
       "      <td>0</td>\n",
       "    </tr>\n",
       "    <tr>\n",
       "      <th>3</th>\n",
       "      <td>50000.000</td>\n",
       "      <td>2</td>\n",
       "      <td>2</td>\n",
       "      <td>1</td>\n",
       "      <td>37</td>\n",
       "      <td>0</td>\n",
       "      <td>0</td>\n",
       "      <td>0</td>\n",
       "      <td>0</td>\n",
       "      <td>0</td>\n",
       "      <td>0</td>\n",
       "      <td>46990.000</td>\n",
       "      <td>48233.000</td>\n",
       "      <td>49291.000</td>\n",
       "      <td>28314.000</td>\n",
       "      <td>28959.000</td>\n",
       "      <td>29547.000</td>\n",
       "      <td>2000</td>\n",
       "      <td>2019</td>\n",
       "      <td>1200</td>\n",
       "      <td>1100</td>\n",
       "      <td>1069</td>\n",
       "      <td>1000</td>\n",
       "      <td>0</td>\n",
       "    </tr>\n",
       "    <tr>\n",
       "      <th>4</th>\n",
       "      <td>50000.000</td>\n",
       "      <td>1</td>\n",
       "      <td>2</td>\n",
       "      <td>1</td>\n",
       "      <td>57</td>\n",
       "      <td>-1</td>\n",
       "      <td>0</td>\n",
       "      <td>-1</td>\n",
       "      <td>0</td>\n",
       "      <td>0</td>\n",
       "      <td>0</td>\n",
       "      <td>8617.000</td>\n",
       "      <td>5670.000</td>\n",
       "      <td>35835.000</td>\n",
       "      <td>20940.000</td>\n",
       "      <td>19146.000</td>\n",
       "      <td>19131.000</td>\n",
       "      <td>2000</td>\n",
       "      <td>36681</td>\n",
       "      <td>10000</td>\n",
       "      <td>9000</td>\n",
       "      <td>689</td>\n",
       "      <td>679</td>\n",
       "      <td>0</td>\n",
       "    </tr>\n",
       "  </tbody>\n",
       "</table>\n",
       "</div>"
      ],
      "text/plain": [
       "   LIMIT_BAL  SEX  EDUCATION  MARRIAGE  AGE  PAY_0  PAY_2  PAY_3  PAY_4  \\\n",
       "0  20000.000    2          2         1   24      2      2     -1     -1   \n",
       "1 120000.000    2          2         2   26     -1      2      0      0   \n",
       "2  90000.000    2          2         2   34      0      0      0      0   \n",
       "3  50000.000    2          2         1   37      0      0      0      0   \n",
       "4  50000.000    1          2         1   57     -1      0     -1      0   \n",
       "\n",
       "   PAY_5  PAY_6  BILL_AMT1  BILL_AMT2  BILL_AMT3  BILL_AMT4  BILL_AMT5  \\\n",
       "0     -2     -2   3913.000   3102.000    689.000      0.000      0.000   \n",
       "1      0      2   2682.000   1725.000   2682.000   3272.000   3455.000   \n",
       "2      0      0  29239.000  14027.000  13559.000  14331.000  14948.000   \n",
       "3      0      0  46990.000  48233.000  49291.000  28314.000  28959.000   \n",
       "4      0      0   8617.000   5670.000  35835.000  20940.000  19146.000   \n",
       "\n",
       "   BILL_AMT6  PAY_AMT1  PAY_AMT2  PAY_AMT3  PAY_AMT4  PAY_AMT5  PAY_AMT6  \\\n",
       "0      0.000         0       689         0         0         0         0   \n",
       "1   3261.000         0      1000      1000      1000         0      2000   \n",
       "2  15549.000      1518      1500      1000      1000      1000      5000   \n",
       "3  29547.000      2000      2019      1200      1100      1069      1000   \n",
       "4  19131.000      2000     36681     10000      9000       689       679   \n",
       "\n",
       "   default payment next month  \n",
       "0                           1  \n",
       "1                           1  \n",
       "2                           0  \n",
       "3                           0  \n",
       "4                           0  "
      ]
     },
     "execution_count": 105,
     "metadata": {},
     "output_type": "execute_result"
    }
   ],
   "source": [
    "df_raw.head()"
   ]
  },
  {
   "cell_type": "markdown",
   "metadata": {},
   "source": [
    "### 1. Seperating Numeric and Categorical features : "
   ]
  },
  {
   "cell_type": "code",
   "execution_count": 106,
   "metadata": {},
   "outputs": [],
   "source": [
    "target_variable = \"default payment next month\""
   ]
  },
  {
   "cell_type": "code",
   "execution_count": 107,
   "metadata": {},
   "outputs": [
    {
     "name": "stdout",
     "output_type": "stream",
     "text": [
      "15.0\n",
      "['SEX', 'EDUCATION', 'MARRIAGE', 'PAY_0', 'PAY_2', 'PAY_3', 'PAY_4', 'PAY_5', 'PAY_6']\n"
     ]
    }
   ],
   "source": [
    "## Assumption  : if the nuber of unique values in the feature are < 0.05 % of the total observations, then treat this as categorical feature\n",
    "\n",
    "categorical_threshold = df_raw.shape[0]*0.05/100\n",
    "print(categorical_threshold)\n",
    "\n",
    "categorical_variables = df_raw.drop(target_variable, axis = 1).apply(lambda x: len(np.unique(x.value_counts()))).index[(df_raw.drop(target_variable, axis = 1).apply(lambda x: len(np.unique(x.value_counts()))) < categorical_threshold)]\n",
    "categorical_variables = list(categorical_variables)\n",
    "print(categorical_variables)"
   ]
  },
  {
   "cell_type": "code",
   "execution_count": 108,
   "metadata": {},
   "outputs": [
    {
     "name": "stdout",
     "output_type": "stream",
     "text": [
      "['LIMIT_BAL', 'AGE', 'BILL_AMT1', 'BILL_AMT2', 'BILL_AMT3', 'BILL_AMT4', 'BILL_AMT5', 'BILL_AMT6', 'PAY_AMT1', 'PAY_AMT2', 'PAY_AMT3', 'PAY_AMT4', 'PAY_AMT5', 'PAY_AMT6']\n"
     ]
    }
   ],
   "source": [
    "### predictors\n",
    "numeric_variables = df_raw.drop([target_variable] + categorical_variables,axis = 1).columns.to_list()\n",
    "print(numeric_variables)"
   ]
  },
  {
   "cell_type": "code",
   "execution_count": 109,
   "metadata": {},
   "outputs": [
    {
     "name": "stdout",
     "output_type": "stream",
     "text": [
      "9\n",
      "14\n"
     ]
    }
   ],
   "source": [
    "print(len(categorical_variables))\n",
    "print(len(numeric_variables))"
   ]
  },
  {
   "cell_type": "code",
   "execution_count": 110,
   "metadata": {
    "scrolled": false
   },
   "outputs": [
    {
     "name": "stdout",
     "output_type": "stream",
     "text": [
      "SEX\n",
      "2    18112\n",
      "1    11888\n",
      "Name: SEX, dtype: int64\n",
      "\n",
      "\n",
      "EDUCATION\n",
      "2    14030\n",
      "1    10585\n",
      "3     4917\n",
      "5      280\n",
      "4      123\n",
      "6       51\n",
      "0       14\n",
      "Name: EDUCATION, dtype: int64\n",
      "\n",
      "\n",
      "MARRIAGE\n",
      "2    15964\n",
      "1    13659\n",
      "3      323\n",
      "0       54\n",
      "Name: MARRIAGE, dtype: int64\n",
      "\n",
      "\n",
      "PAY_0\n",
      " 0    14737\n",
      "-1     5686\n",
      " 1     3688\n",
      "-2     2759\n",
      " 2     2667\n",
      " 3      322\n",
      " 4       76\n",
      " 5       26\n",
      " 8       19\n",
      " 6       11\n",
      " 7        9\n",
      "Name: PAY_0, dtype: int64\n",
      "\n",
      "\n",
      "PAY_2\n",
      " 0    15730\n",
      "-1     6050\n",
      " 2     3927\n",
      "-2     3782\n",
      " 3      326\n",
      " 4       99\n",
      " 1       28\n",
      " 5       25\n",
      " 7       20\n",
      " 6       12\n",
      " 8        1\n",
      "Name: PAY_2, dtype: int64\n",
      "\n",
      "\n",
      "PAY_3\n",
      " 0    15764\n",
      "-1     5938\n",
      "-2     4085\n",
      " 2     3819\n",
      " 3      240\n",
      " 4       76\n",
      " 7       27\n",
      " 6       23\n",
      " 5       21\n",
      " 1        4\n",
      " 8        3\n",
      "Name: PAY_3, dtype: int64\n",
      "\n",
      "\n",
      "PAY_4\n",
      " 0    16455\n",
      "-1     5687\n",
      "-2     4348\n",
      " 2     3159\n",
      " 3      180\n",
      " 4       69\n",
      " 7       58\n",
      " 5       35\n",
      " 6        5\n",
      " 1        2\n",
      " 8        2\n",
      "Name: PAY_4, dtype: int64\n",
      "\n",
      "\n",
      "PAY_5\n",
      " 0    16947\n",
      "-1     5539\n",
      "-2     4546\n",
      " 2     2626\n",
      " 3      178\n",
      " 4       84\n",
      " 7       58\n",
      " 5       17\n",
      " 6        4\n",
      " 8        1\n",
      "Name: PAY_5, dtype: int64\n",
      "\n",
      "\n",
      "PAY_6\n",
      " 0    16286\n",
      "-1     5740\n",
      "-2     4895\n",
      " 2     2766\n",
      " 3      184\n",
      " 4       49\n",
      " 7       46\n",
      " 6       19\n",
      " 5       13\n",
      " 8        2\n",
      "Name: PAY_6, dtype: int64\n",
      "\n",
      "\n"
     ]
    }
   ],
   "source": [
    "##### Data Mapping in categorical features\n",
    "for feat in categorical_variables:\n",
    "    print(feat)\n",
    "    print(df_raw[feat].value_counts())\n",
    "    print(\"\\n\")"
   ]
  },
  {
   "cell_type": "code",
   "execution_count": 111,
   "metadata": {},
   "outputs": [],
   "source": [
    "### Mapping unknown values to respective categories (as per data analysis)\n",
    "df_raw[\"EDUCATION\"] = df_raw[\"EDUCATION\"].map({0:6, 1:1,2:2,3:3,4:4,5:5,6:6})\n",
    "df_raw[\"MARRIAGE\"] = df_raw[\"MARRIAGE\"].map({0:3, 1:1,2:2,3:3})\n",
    "df_raw[\"PAY_0\"] = df_raw[\"PAY_0\"].map({-2:0,-1:0,0:0,1:1,2:2,3:3,4:4,5:5,6:6,7:7,8:8,9:9})\n",
    "df_raw[\"PAY_2\"] = df_raw[\"PAY_2\"].map({-2:0,-1:0,0:0,1:1,2:2,3:3,4:4,5:5,6:6,7:7,8:8,9:9})\n",
    "df_raw[\"PAY_3\"] = df_raw[\"PAY_3\"].map({-2:0,-1:0,0:0,1:1,2:2,3:3,4:4,5:5,6:6,7:7,8:8,9:9})\n",
    "df_raw[\"PAY_4\"] = df_raw[\"PAY_4\"].map({-2:0,-1:0,0:0,1:1,2:2,3:3,4:4,5:5,6:6,7:7,8:8,9:9})\n",
    "df_raw[\"PAY_5\"] = df_raw[\"PAY_5\"].map({-2:0,-1:0,0:0,1:1,2:2,3:3,4:4,5:5,6:6,7:7,8:8,9:9})\n",
    "df_raw[\"PAY_6\"] = df_raw[\"PAY_6\"].map({-2:0,-1:0,0:0,1:1,2:2,3:3,4:4,5:5,6:6,7:7,8:8,9:9})"
   ]
  },
  {
   "cell_type": "code",
   "execution_count": 112,
   "metadata": {},
   "outputs": [
    {
     "data": {
      "text/plain": [
       "['SEX',\n",
       " 'EDUCATION',\n",
       " 'MARRIAGE',\n",
       " 'PAY_0',\n",
       " 'PAY_2',\n",
       " 'PAY_3',\n",
       " 'PAY_4',\n",
       " 'PAY_5',\n",
       " 'PAY_6']"
      ]
     },
     "execution_count": 112,
     "metadata": {},
     "output_type": "execute_result"
    }
   ],
   "source": [
    "categorical_variables"
   ]
  },
  {
   "cell_type": "code",
   "execution_count": 113,
   "metadata": {},
   "outputs": [
    {
     "data": {
      "text/plain": [
       "['LIMIT_BAL',\n",
       " 'AGE',\n",
       " 'BILL_AMT1',\n",
       " 'BILL_AMT2',\n",
       " 'BILL_AMT3',\n",
       " 'BILL_AMT4',\n",
       " 'BILL_AMT5',\n",
       " 'BILL_AMT6',\n",
       " 'PAY_AMT1',\n",
       " 'PAY_AMT2',\n",
       " 'PAY_AMT3',\n",
       " 'PAY_AMT4',\n",
       " 'PAY_AMT5',\n",
       " 'PAY_AMT6']"
      ]
     },
     "execution_count": 113,
     "metadata": {},
     "output_type": "execute_result"
    }
   ],
   "source": [
    "numeric_variables"
   ]
  },
  {
   "cell_type": "markdown",
   "metadata": {},
   "source": [
    "### 2. Splitting the Data into Training and Test Set"
   ]
  },
  {
   "cell_type": "code",
   "execution_count": 114,
   "metadata": {},
   "outputs": [],
   "source": [
    "X_train, X_test, y_train, y_test = train_test_split(df_raw.drop(target_variable, axis = 1), \n",
    "                                                   df_raw[target_variable], \n",
    "                                                    test_size = 0.20,\n",
    "                                                    random_state = 8,\n",
    "                                                   shuffle = True)"
   ]
  },
  {
   "cell_type": "code",
   "execution_count": 115,
   "metadata": {},
   "outputs": [],
   "source": [
    "X_train.reset_index(inplace = True, drop  = True)\n",
    "X_test.reset_index(inplace = True, drop  = True)"
   ]
  },
  {
   "cell_type": "code",
   "execution_count": 116,
   "metadata": {},
   "outputs": [
    {
     "name": "stdout",
     "output_type": "stream",
     "text": [
      "(24000, 23)\n",
      "(6000, 23)\n"
     ]
    }
   ],
   "source": [
    "print(X_train.shape)\n",
    "print(X_test.shape)"
   ]
  },
  {
   "cell_type": "code",
   "execution_count": 117,
   "metadata": {},
   "outputs": [
    {
     "data": {
      "text/plain": [
       "0   0.779\n",
       "1   0.221\n",
       "Name: default payment next month, dtype: float64"
      ]
     },
     "execution_count": 117,
     "metadata": {},
     "output_type": "execute_result"
    }
   ],
   "source": [
    "y_train.value_counts(normalize=True)"
   ]
  },
  {
   "cell_type": "code",
   "execution_count": 118,
   "metadata": {},
   "outputs": [
    {
     "data": {
      "text/plain": [
       "0   0.779\n",
       "1   0.221\n",
       "Name: default payment next month, dtype: float64"
      ]
     },
     "execution_count": 118,
     "metadata": {},
     "output_type": "execute_result"
    }
   ],
   "source": [
    "y_test.value_counts(normalize=True)"
   ]
  },
  {
   "cell_type": "code",
   "execution_count": 119,
   "metadata": {},
   "outputs": [],
   "source": [
    "y_train = y_train.values\n",
    "y_test = y_test.values"
   ]
  },
  {
   "cell_type": "code",
   "execution_count": 120,
   "metadata": {},
   "outputs": [
    {
     "data": {
      "text/plain": [
       "LIMIT_BAL    float64\n",
       "SEX            int64\n",
       "EDUCATION      int64\n",
       "MARRIAGE       int64\n",
       "AGE            int64\n",
       "PAY_0          int64\n",
       "PAY_2          int64\n",
       "PAY_3          int64\n",
       "PAY_4          int64\n",
       "PAY_5          int64\n",
       "PAY_6          int64\n",
       "BILL_AMT1    float64\n",
       "BILL_AMT2    float64\n",
       "BILL_AMT3    float64\n",
       "BILL_AMT4    float64\n",
       "BILL_AMT5    float64\n",
       "BILL_AMT6    float64\n",
       "PAY_AMT1       int64\n",
       "PAY_AMT2       int64\n",
       "PAY_AMT3       int64\n",
       "PAY_AMT4       int64\n",
       "PAY_AMT5       int64\n",
       "PAY_AMT6       int64\n",
       "dtype: object"
      ]
     },
     "execution_count": 120,
     "metadata": {},
     "output_type": "execute_result"
    }
   ],
   "source": [
    "X_train.dtypes"
   ]
  },
  {
   "cell_type": "markdown",
   "metadata": {},
   "source": [
    "##### Missing value imputation process\n",
    "    > we have all the data in numeric terms, Impute missing values using Imputer (e.g. KNN)"
   ]
  },
  {
   "cell_type": "markdown",
   "metadata": {},
   "source": [
    "### 3. Missing Values Imputation"
   ]
  },
  {
   "cell_type": "code",
   "execution_count": 121,
   "metadata": {},
   "outputs": [],
   "source": [
    "missing_value_imputer = KNNImputer(n_neighbors = 11, weights=\"uniform\")"
   ]
  },
  {
   "cell_type": "markdown",
   "metadata": {},
   "source": [
    "##### fit imputer on trainig data"
   ]
  },
  {
   "cell_type": "code",
   "execution_count": 122,
   "metadata": {},
   "outputs": [
    {
     "data": {
      "text/plain": [
       "KNNImputer(n_neighbors=11)"
      ]
     },
     "execution_count": 122,
     "metadata": {},
     "output_type": "execute_result"
    }
   ],
   "source": [
    "missing_value_imputer.fit(X_train)"
   ]
  },
  {
   "cell_type": "markdown",
   "metadata": {},
   "source": [
    "##### Impute missing values in train and test data accordingly"
   ]
  },
  {
   "cell_type": "code",
   "execution_count": 123,
   "metadata": {},
   "outputs": [
    {
     "name": "stdout",
     "output_type": "stream",
     "text": [
      "Time Taken in minutes =  0.01\n"
     ]
    }
   ],
   "source": [
    "t0 = perf_counter()\n",
    "\n",
    "X_train = pd.DataFrame(missing_value_imputer.transform(X_train), columns = X_train.columns)\n",
    "X_test = pd.DataFrame(missing_value_imputer.transform(X_test), columns = X_test.columns)\n",
    "\n",
    "t1 = perf_counter()\n",
    "print(\"Time Taken in minutes = \", np.round((t1 - t0)/60,2))"
   ]
  },
  {
   "cell_type": "code",
   "execution_count": 124,
   "metadata": {},
   "outputs": [
    {
     "data": {
      "text/plain": [
       "0"
      ]
     },
     "execution_count": 124,
     "metadata": {},
     "output_type": "execute_result"
    }
   ],
   "source": [
    "X_train.isnull().sum().sum()"
   ]
  },
  {
   "cell_type": "code",
   "execution_count": 125,
   "metadata": {},
   "outputs": [
    {
     "data": {
      "text/plain": [
       "0"
      ]
     },
     "execution_count": 125,
     "metadata": {},
     "output_type": "execute_result"
    }
   ],
   "source": [
    "X_test.isnull().sum().sum()"
   ]
  },
  {
   "cell_type": "raw",
   "metadata": {},
   "source": [
    "## We have successfully imputed missing values in the data"
   ]
  },
  {
   "cell_type": "markdown",
   "metadata": {},
   "source": [
    "### 4. Data standardization"
   ]
  },
  {
   "cell_type": "code",
   "execution_count": 126,
   "metadata": {},
   "outputs": [],
   "source": [
    "standard_scaler = StandardScaler()"
   ]
  },
  {
   "cell_type": "code",
   "execution_count": 127,
   "metadata": {},
   "outputs": [
    {
     "data": {
      "text/plain": [
       "StandardScaler()"
      ]
     },
     "execution_count": 127,
     "metadata": {},
     "output_type": "execute_result"
    }
   ],
   "source": [
    "# fit the standard scaler transformer on the train data\n",
    "standard_scaler.fit(X_train)"
   ]
  },
  {
   "cell_type": "code",
   "execution_count": 128,
   "metadata": {},
   "outputs": [
    {
     "data": {
      "text/html": [
       "<div>\n",
       "<style scoped>\n",
       "    .dataframe tbody tr th:only-of-type {\n",
       "        vertical-align: middle;\n",
       "    }\n",
       "\n",
       "    .dataframe tbody tr th {\n",
       "        vertical-align: top;\n",
       "    }\n",
       "\n",
       "    .dataframe thead th {\n",
       "        text-align: right;\n",
       "    }\n",
       "</style>\n",
       "<table border=\"1\" class=\"dataframe\">\n",
       "  <thead>\n",
       "    <tr style=\"text-align: right;\">\n",
       "      <th></th>\n",
       "      <th>LIMIT_BAL</th>\n",
       "      <th>SEX</th>\n",
       "      <th>EDUCATION</th>\n",
       "      <th>MARRIAGE</th>\n",
       "      <th>AGE</th>\n",
       "      <th>PAY_0</th>\n",
       "      <th>PAY_2</th>\n",
       "      <th>PAY_3</th>\n",
       "      <th>PAY_4</th>\n",
       "      <th>PAY_5</th>\n",
       "      <th>PAY_6</th>\n",
       "      <th>BILL_AMT1</th>\n",
       "      <th>BILL_AMT2</th>\n",
       "      <th>BILL_AMT3</th>\n",
       "      <th>BILL_AMT4</th>\n",
       "      <th>BILL_AMT5</th>\n",
       "      <th>BILL_AMT6</th>\n",
       "      <th>PAY_AMT1</th>\n",
       "      <th>PAY_AMT2</th>\n",
       "      <th>PAY_AMT3</th>\n",
       "      <th>PAY_AMT4</th>\n",
       "      <th>PAY_AMT5</th>\n",
       "      <th>PAY_AMT6</th>\n",
       "    </tr>\n",
       "  </thead>\n",
       "  <tbody>\n",
       "    <tr>\n",
       "      <th>0</th>\n",
       "      <td>130000.000</td>\n",
       "      <td>2.000</td>\n",
       "      <td>2.000</td>\n",
       "      <td>2.000</td>\n",
       "      <td>28.000</td>\n",
       "      <td>0.000</td>\n",
       "      <td>0.000</td>\n",
       "      <td>0.000</td>\n",
       "      <td>0.000</td>\n",
       "      <td>0.000</td>\n",
       "      <td>0.000</td>\n",
       "      <td>390.000</td>\n",
       "      <td>7412.000</td>\n",
       "      <td>390.000</td>\n",
       "      <td>4134.000</td>\n",
       "      <td>540.000</td>\n",
       "      <td>390.000</td>\n",
       "      <td>7412.000</td>\n",
       "      <td>390.000</td>\n",
       "      <td>4134.000</td>\n",
       "      <td>540.000</td>\n",
       "      <td>390.000</td>\n",
       "      <td>2596.000</td>\n",
       "    </tr>\n",
       "    <tr>\n",
       "      <th>1</th>\n",
       "      <td>350000.000</td>\n",
       "      <td>1.000</td>\n",
       "      <td>1.000</td>\n",
       "      <td>2.000</td>\n",
       "      <td>52.000</td>\n",
       "      <td>0.000</td>\n",
       "      <td>0.000</td>\n",
       "      <td>0.000</td>\n",
       "      <td>0.000</td>\n",
       "      <td>0.000</td>\n",
       "      <td>0.000</td>\n",
       "      <td>713.000</td>\n",
       "      <td>2272.000</td>\n",
       "      <td>722.000</td>\n",
       "      <td>867.000</td>\n",
       "      <td>1150.000</td>\n",
       "      <td>5263.000</td>\n",
       "      <td>2272.000</td>\n",
       "      <td>722.000</td>\n",
       "      <td>867.000</td>\n",
       "      <td>1150.000</td>\n",
       "      <td>5263.000</td>\n",
       "      <td>5011.000</td>\n",
       "    </tr>\n",
       "    <tr>\n",
       "      <th>2</th>\n",
       "      <td>260000.000</td>\n",
       "      <td>1.000</td>\n",
       "      <td>2.000</td>\n",
       "      <td>2.000</td>\n",
       "      <td>32.000</td>\n",
       "      <td>1.000</td>\n",
       "      <td>0.000</td>\n",
       "      <td>0.000</td>\n",
       "      <td>0.000</td>\n",
       "      <td>0.000</td>\n",
       "      <td>0.000</td>\n",
       "      <td>3581.000</td>\n",
       "      <td>-9.000</td>\n",
       "      <td>-9.000</td>\n",
       "      <td>1935.000</td>\n",
       "      <td>999.000</td>\n",
       "      <td>0.000</td>\n",
       "      <td>0.000</td>\n",
       "      <td>0.000</td>\n",
       "      <td>1944.000</td>\n",
       "      <td>999.000</td>\n",
       "      <td>0.000</td>\n",
       "      <td>0.000</td>\n",
       "    </tr>\n",
       "    <tr>\n",
       "      <th>3</th>\n",
       "      <td>280000.000</td>\n",
       "      <td>2.000</td>\n",
       "      <td>2.000</td>\n",
       "      <td>2.000</td>\n",
       "      <td>30.000</td>\n",
       "      <td>0.000</td>\n",
       "      <td>0.000</td>\n",
       "      <td>0.000</td>\n",
       "      <td>0.000</td>\n",
       "      <td>0.000</td>\n",
       "      <td>0.000</td>\n",
       "      <td>61282.000</td>\n",
       "      <td>53394.000</td>\n",
       "      <td>17644.000</td>\n",
       "      <td>0.000</td>\n",
       "      <td>5468.000</td>\n",
       "      <td>0.000</td>\n",
       "      <td>7900.000</td>\n",
       "      <td>4157.000</td>\n",
       "      <td>0.000</td>\n",
       "      <td>5468.000</td>\n",
       "      <td>0.000</td>\n",
       "      <td>330.000</td>\n",
       "    </tr>\n",
       "    <tr>\n",
       "      <th>4</th>\n",
       "      <td>80000.000</td>\n",
       "      <td>2.000</td>\n",
       "      <td>2.000</td>\n",
       "      <td>1.000</td>\n",
       "      <td>25.000</td>\n",
       "      <td>0.000</td>\n",
       "      <td>0.000</td>\n",
       "      <td>0.000</td>\n",
       "      <td>0.000</td>\n",
       "      <td>0.000</td>\n",
       "      <td>0.000</td>\n",
       "      <td>76117.000</td>\n",
       "      <td>76660.000</td>\n",
       "      <td>46137.000</td>\n",
       "      <td>48218.000</td>\n",
       "      <td>48286.000</td>\n",
       "      <td>48207.000</td>\n",
       "      <td>2300.000</td>\n",
       "      <td>2200.000</td>\n",
       "      <td>3207.000</td>\n",
       "      <td>2000.000</td>\n",
       "      <td>2000.000</td>\n",
       "      <td>2000.000</td>\n",
       "    </tr>\n",
       "    <tr>\n",
       "      <th>...</th>\n",
       "      <td>...</td>\n",
       "      <td>...</td>\n",
       "      <td>...</td>\n",
       "      <td>...</td>\n",
       "      <td>...</td>\n",
       "      <td>...</td>\n",
       "      <td>...</td>\n",
       "      <td>...</td>\n",
       "      <td>...</td>\n",
       "      <td>...</td>\n",
       "      <td>...</td>\n",
       "      <td>...</td>\n",
       "      <td>...</td>\n",
       "      <td>...</td>\n",
       "      <td>...</td>\n",
       "      <td>...</td>\n",
       "      <td>...</td>\n",
       "      <td>...</td>\n",
       "      <td>...</td>\n",
       "      <td>...</td>\n",
       "      <td>...</td>\n",
       "      <td>...</td>\n",
       "      <td>...</td>\n",
       "    </tr>\n",
       "    <tr>\n",
       "      <th>23995</th>\n",
       "      <td>110000.000</td>\n",
       "      <td>2.000</td>\n",
       "      <td>3.000</td>\n",
       "      <td>2.000</td>\n",
       "      <td>31.000</td>\n",
       "      <td>0.000</td>\n",
       "      <td>0.000</td>\n",
       "      <td>0.000</td>\n",
       "      <td>0.000</td>\n",
       "      <td>0.000</td>\n",
       "      <td>0.000</td>\n",
       "      <td>2705.000</td>\n",
       "      <td>2487.000</td>\n",
       "      <td>2500.000</td>\n",
       "      <td>2500.000</td>\n",
       "      <td>0.000</td>\n",
       "      <td>0.000</td>\n",
       "      <td>2487.000</td>\n",
       "      <td>2700.000</td>\n",
       "      <td>2500.000</td>\n",
       "      <td>0.000</td>\n",
       "      <td>0.000</td>\n",
       "      <td>0.000</td>\n",
       "    </tr>\n",
       "    <tr>\n",
       "      <th>23996</th>\n",
       "      <td>360000.000</td>\n",
       "      <td>1.000</td>\n",
       "      <td>1.000</td>\n",
       "      <td>1.000</td>\n",
       "      <td>32.000</td>\n",
       "      <td>0.000</td>\n",
       "      <td>0.000</td>\n",
       "      <td>0.000</td>\n",
       "      <td>0.000</td>\n",
       "      <td>0.000</td>\n",
       "      <td>0.000</td>\n",
       "      <td>2500.000</td>\n",
       "      <td>0.000</td>\n",
       "      <td>0.000</td>\n",
       "      <td>0.000</td>\n",
       "      <td>0.000</td>\n",
       "      <td>0.000</td>\n",
       "      <td>0.000</td>\n",
       "      <td>0.000</td>\n",
       "      <td>0.000</td>\n",
       "      <td>0.000</td>\n",
       "      <td>0.000</td>\n",
       "      <td>0.000</td>\n",
       "    </tr>\n",
       "    <tr>\n",
       "      <th>23997</th>\n",
       "      <td>110000.000</td>\n",
       "      <td>2.000</td>\n",
       "      <td>2.000</td>\n",
       "      <td>1.000</td>\n",
       "      <td>24.000</td>\n",
       "      <td>1.000</td>\n",
       "      <td>1.000</td>\n",
       "      <td>0.000</td>\n",
       "      <td>0.000</td>\n",
       "      <td>0.000</td>\n",
       "      <td>0.000</td>\n",
       "      <td>9787.000</td>\n",
       "      <td>-1256.000</td>\n",
       "      <td>65064.000</td>\n",
       "      <td>66102.000</td>\n",
       "      <td>54275.000</td>\n",
       "      <td>51791.000</td>\n",
       "      <td>5.000</td>\n",
       "      <td>68500.000</td>\n",
       "      <td>3114.000</td>\n",
       "      <td>4016.000</td>\n",
       "      <td>2000.000</td>\n",
       "      <td>2000.000</td>\n",
       "    </tr>\n",
       "    <tr>\n",
       "      <th>23998</th>\n",
       "      <td>360000.000</td>\n",
       "      <td>2.000</td>\n",
       "      <td>2.000</td>\n",
       "      <td>2.000</td>\n",
       "      <td>30.000</td>\n",
       "      <td>0.000</td>\n",
       "      <td>0.000</td>\n",
       "      <td>0.000</td>\n",
       "      <td>0.000</td>\n",
       "      <td>0.000</td>\n",
       "      <td>0.000</td>\n",
       "      <td>7410.000</td>\n",
       "      <td>6783.000</td>\n",
       "      <td>7672.000</td>\n",
       "      <td>8380.000</td>\n",
       "      <td>4581.000</td>\n",
       "      <td>3853.000</td>\n",
       "      <td>1115.000</td>\n",
       "      <td>1161.000</td>\n",
       "      <td>1026.000</td>\n",
       "      <td>1523.000</td>\n",
       "      <td>3872.000</td>\n",
       "      <td>2626.000</td>\n",
       "    </tr>\n",
       "    <tr>\n",
       "      <th>23999</th>\n",
       "      <td>200000.000</td>\n",
       "      <td>1.000</td>\n",
       "      <td>3.000</td>\n",
       "      <td>2.000</td>\n",
       "      <td>28.000</td>\n",
       "      <td>0.000</td>\n",
       "      <td>0.000</td>\n",
       "      <td>0.000</td>\n",
       "      <td>0.000</td>\n",
       "      <td>0.000</td>\n",
       "      <td>0.000</td>\n",
       "      <td>54663.000</td>\n",
       "      <td>46147.000</td>\n",
       "      <td>44095.000</td>\n",
       "      <td>25454.000</td>\n",
       "      <td>17651.000</td>\n",
       "      <td>18994.000</td>\n",
       "      <td>11000.000</td>\n",
       "      <td>3000.000</td>\n",
       "      <td>3000.000</td>\n",
       "      <td>2000.000</td>\n",
       "      <td>3000.000</td>\n",
       "      <td>10000.000</td>\n",
       "    </tr>\n",
       "  </tbody>\n",
       "</table>\n",
       "<p>24000 rows × 23 columns</p>\n",
       "</div>"
      ],
      "text/plain": [
       "       LIMIT_BAL   SEX  EDUCATION  MARRIAGE    AGE  PAY_0  PAY_2  PAY_3  \\\n",
       "0     130000.000 2.000      2.000     2.000 28.000  0.000  0.000  0.000   \n",
       "1     350000.000 1.000      1.000     2.000 52.000  0.000  0.000  0.000   \n",
       "2     260000.000 1.000      2.000     2.000 32.000  1.000  0.000  0.000   \n",
       "3     280000.000 2.000      2.000     2.000 30.000  0.000  0.000  0.000   \n",
       "4      80000.000 2.000      2.000     1.000 25.000  0.000  0.000  0.000   \n",
       "...          ...   ...        ...       ...    ...    ...    ...    ...   \n",
       "23995 110000.000 2.000      3.000     2.000 31.000  0.000  0.000  0.000   \n",
       "23996 360000.000 1.000      1.000     1.000 32.000  0.000  0.000  0.000   \n",
       "23997 110000.000 2.000      2.000     1.000 24.000  1.000  1.000  0.000   \n",
       "23998 360000.000 2.000      2.000     2.000 30.000  0.000  0.000  0.000   \n",
       "23999 200000.000 1.000      3.000     2.000 28.000  0.000  0.000  0.000   \n",
       "\n",
       "       PAY_4  PAY_5  PAY_6  BILL_AMT1  BILL_AMT2  BILL_AMT3  BILL_AMT4  \\\n",
       "0      0.000  0.000  0.000    390.000   7412.000    390.000   4134.000   \n",
       "1      0.000  0.000  0.000    713.000   2272.000    722.000    867.000   \n",
       "2      0.000  0.000  0.000   3581.000     -9.000     -9.000   1935.000   \n",
       "3      0.000  0.000  0.000  61282.000  53394.000  17644.000      0.000   \n",
       "4      0.000  0.000  0.000  76117.000  76660.000  46137.000  48218.000   \n",
       "...      ...    ...    ...        ...        ...        ...        ...   \n",
       "23995  0.000  0.000  0.000   2705.000   2487.000   2500.000   2500.000   \n",
       "23996  0.000  0.000  0.000   2500.000      0.000      0.000      0.000   \n",
       "23997  0.000  0.000  0.000   9787.000  -1256.000  65064.000  66102.000   \n",
       "23998  0.000  0.000  0.000   7410.000   6783.000   7672.000   8380.000   \n",
       "23999  0.000  0.000  0.000  54663.000  46147.000  44095.000  25454.000   \n",
       "\n",
       "       BILL_AMT5  BILL_AMT6  PAY_AMT1  PAY_AMT2  PAY_AMT3  PAY_AMT4  PAY_AMT5  \\\n",
       "0        540.000    390.000  7412.000   390.000  4134.000   540.000   390.000   \n",
       "1       1150.000   5263.000  2272.000   722.000   867.000  1150.000  5263.000   \n",
       "2        999.000      0.000     0.000     0.000  1944.000   999.000     0.000   \n",
       "3       5468.000      0.000  7900.000  4157.000     0.000  5468.000     0.000   \n",
       "4      48286.000  48207.000  2300.000  2200.000  3207.000  2000.000  2000.000   \n",
       "...          ...        ...       ...       ...       ...       ...       ...   \n",
       "23995      0.000      0.000  2487.000  2700.000  2500.000     0.000     0.000   \n",
       "23996      0.000      0.000     0.000     0.000     0.000     0.000     0.000   \n",
       "23997  54275.000  51791.000     5.000 68500.000  3114.000  4016.000  2000.000   \n",
       "23998   4581.000   3853.000  1115.000  1161.000  1026.000  1523.000  3872.000   \n",
       "23999  17651.000  18994.000 11000.000  3000.000  3000.000  2000.000  3000.000   \n",
       "\n",
       "       PAY_AMT6  \n",
       "0      2596.000  \n",
       "1      5011.000  \n",
       "2         0.000  \n",
       "3       330.000  \n",
       "4      2000.000  \n",
       "...         ...  \n",
       "23995     0.000  \n",
       "23996     0.000  \n",
       "23997  2000.000  \n",
       "23998  2626.000  \n",
       "23999 10000.000  \n",
       "\n",
       "[24000 rows x 23 columns]"
      ]
     },
     "execution_count": 128,
     "metadata": {},
     "output_type": "execute_result"
    }
   ],
   "source": [
    "X_train"
   ]
  },
  {
   "cell_type": "code",
   "execution_count": 129,
   "metadata": {},
   "outputs": [],
   "source": [
    "## transform training and test feature     \n",
    "transformed_std_scaled_train_df = pd.DataFrame(standard_scaler.transform(X_train))\n",
    "transformed_std_scaled_train_df.columns = list(X_train.columns)\n",
    "\n",
    "transformed_std_scaled_test_df = pd.DataFrame(standard_scaler.transform(X_test))\n",
    "transformed_std_scaled_test_df.columns = list(X_test.columns)\n"
   ]
  },
  {
   "cell_type": "markdown",
   "metadata": {},
   "source": [
    "### 5. Saving training and test data after imputation"
   ]
  },
  {
   "cell_type": "code",
   "execution_count": 130,
   "metadata": {},
   "outputs": [],
   "source": [
    "X_train_df = transformed_std_scaled_train_df.copy()\n",
    "X_test_df = transformed_std_scaled_test_df.copy()\n",
    "\n",
    "X_train_df[target_variable] = y_train\n",
    "X_test_df[target_variable] = y_test"
   ]
  },
  {
   "cell_type": "code",
   "execution_count": 131,
   "metadata": {},
   "outputs": [],
   "source": [
    "X_train_df.to_csv(\"..\\\\1_Modeling_Data_After_Transformations_TestTrainSplits\\\\Training_data_std.csv\", index  = False)\n",
    "X_test_df.to_csv(\"..\\\\1_Modeling_Data_After_Transformations_TestTrainSplits\\\\Testing_data_std.csv\", index  = False)"
   ]
  },
  {
   "cell_type": "code",
   "execution_count": null,
   "metadata": {},
   "outputs": [],
   "source": []
  },
  {
   "cell_type": "code",
   "execution_count": null,
   "metadata": {},
   "outputs": [],
   "source": []
  },
  {
   "cell_type": "code",
   "execution_count": null,
   "metadata": {},
   "outputs": [],
   "source": []
  },
  {
   "cell_type": "code",
   "execution_count": null,
   "metadata": {},
   "outputs": [],
   "source": []
  }
 ],
 "metadata": {
  "kernelspec": {
   "display_name": "Python 3 (ipykernel)",
   "language": "python",
   "name": "python3"
  },
  "language_info": {
   "codemirror_mode": {
    "name": "ipython",
    "version": 3
   },
   "file_extension": ".py",
   "mimetype": "text/x-python",
   "name": "python",
   "nbconvert_exporter": "python",
   "pygments_lexer": "ipython3",
   "version": "3.9.7"
  }
 },
 "nbformat": 4,
 "nbformat_minor": 4
}
