{
 "cells": [
  {
   "cell_type": "markdown",
   "metadata": {},
   "source": [
    "### NoteBook Contents : (Comparing And Selecting Best ML Model on train data with kFoldCrossValidation)\n",
    "        > 1. Loading the Standard Scaled training data\n",
    "        > 2. Creating 5-folds for cross validation in the dataset \n",
    "        > 3. Definig several classification Machine Learning models \n",
    "        > 4. Training above models on the train data with 5-fold cross validation and recording F1 metric in each fold\n",
    "        > 5. Perfomance & Time taken to train Comparision for selecting best performing classifier"
   ]
  },
  {
   "cell_type": "markdown",
   "metadata": {},
   "source": [
    "#### Importing Essential Data handling libraries"
   ]
  },
  {
   "cell_type": "code",
   "execution_count": 1,
   "metadata": {},
   "outputs": [
    {
     "data": {
      "text/html": [
       "<style>.container { width:100% !important; }</style>"
      ],
      "text/plain": [
       "<IPython.core.display.HTML object>"
      ]
     },
     "metadata": {},
     "output_type": "display_data"
    }
   ],
   "source": [
    "import pandas as pd\n",
    "import numpy as np\n",
    "\n",
    "import matplotlib as mpl\n",
    "import matplotlib.pyplot as plt\n",
    "import seaborn as sns\n",
    "\n",
    "import warnings\n",
    "warnings.filterwarnings(\"ignore\")\n",
    "\n",
    "%matplotlib inline\n",
    "\n",
    "import time\n",
    "from math import floor\n",
    "from time import perf_counter\n",
    "from tqdm import tqdm\n",
    "\n",
    "pd.set_option('display.max_columns', 100)\n",
    "pd.set_option('display.float_format', lambda x: '%.3f' % x)\n",
    "\n",
    "from IPython.core.display import display, HTML\n",
    "display(HTML(\"<style>.container { width:100% !important; }</style>\"))"
   ]
  },
  {
   "cell_type": "code",
   "execution_count": 8,
   "metadata": {},
   "outputs": [],
   "source": [
    "from sklearn.metrics import f1_score\n",
    "from sklearn.model_selection import KFold\n",
    "from sklearn.model_selection import cross_val_score\n",
    "from sklearn import model_selection\n",
    "\n",
    "from sklearn.tree import DecisionTreeClassifier\n",
    "from sklearn.ensemble import RandomForestClassifier\n",
    "from sklearn.neighbors import KNeighborsClassifier\n",
    "from sklearn.linear_model import LogisticRegression\n",
    "from sklearn.ensemble import AdaBoostClassifier"
   ]
  },
  {
   "cell_type": "markdown",
   "metadata": {},
   "source": [
    "### 1. Loading the Standard Scaled training data"
   ]
  },
  {
   "cell_type": "code",
   "execution_count": 3,
   "metadata": {},
   "outputs": [],
   "source": [
    "train_df = pd.read_csv(\"..\\\\1_Modeling_Data_After_Transformations_TestTrainSplits\\\\Training_data_std.csv\") ## looking for dataset up one directory"
   ]
  },
  {
   "cell_type": "code",
   "execution_count": 4,
   "metadata": {},
   "outputs": [
    {
     "data": {
      "text/html": [
       "<div>\n",
       "<style scoped>\n",
       "    .dataframe tbody tr th:only-of-type {\n",
       "        vertical-align: middle;\n",
       "    }\n",
       "\n",
       "    .dataframe tbody tr th {\n",
       "        vertical-align: top;\n",
       "    }\n",
       "\n",
       "    .dataframe thead th {\n",
       "        text-align: right;\n",
       "    }\n",
       "</style>\n",
       "<table border=\"1\" class=\"dataframe\">\n",
       "  <thead>\n",
       "    <tr style=\"text-align: right;\">\n",
       "      <th></th>\n",
       "      <th>LIMIT_BAL</th>\n",
       "      <th>SEX</th>\n",
       "      <th>EDUCATION</th>\n",
       "      <th>MARRIAGE</th>\n",
       "      <th>AGE</th>\n",
       "      <th>PAY_0</th>\n",
       "      <th>PAY_2</th>\n",
       "      <th>PAY_3</th>\n",
       "      <th>PAY_4</th>\n",
       "      <th>PAY_5</th>\n",
       "      <th>PAY_6</th>\n",
       "      <th>BILL_AMT1</th>\n",
       "      <th>BILL_AMT2</th>\n",
       "      <th>BILL_AMT3</th>\n",
       "      <th>BILL_AMT4</th>\n",
       "      <th>BILL_AMT5</th>\n",
       "      <th>BILL_AMT6</th>\n",
       "      <th>PAY_AMT1</th>\n",
       "      <th>PAY_AMT2</th>\n",
       "      <th>PAY_AMT3</th>\n",
       "      <th>PAY_AMT4</th>\n",
       "      <th>PAY_AMT5</th>\n",
       "      <th>PAY_AMT6</th>\n",
       "      <th>default payment next month</th>\n",
       "    </tr>\n",
       "  </thead>\n",
       "  <tbody>\n",
       "    <tr>\n",
       "      <th>0</th>\n",
       "      <td>-0.286</td>\n",
       "      <td>0.811</td>\n",
       "      <td>0.182</td>\n",
       "      <td>0.847</td>\n",
       "      <td>-0.812</td>\n",
       "      <td>-0.468</td>\n",
       "      <td>-0.398</td>\n",
       "      <td>-0.383</td>\n",
       "      <td>-0.339</td>\n",
       "      <td>-0.309</td>\n",
       "      <td>-0.317</td>\n",
       "      <td>-0.691</td>\n",
       "      <td>-0.589</td>\n",
       "      <td>-0.671</td>\n",
       "      <td>-0.610</td>\n",
       "      <td>-0.654</td>\n",
       "      <td>-0.648</td>\n",
       "      <td>0.101</td>\n",
       "      <td>-0.231</td>\n",
       "      <td>-0.063</td>\n",
       "      <td>-0.270</td>\n",
       "      <td>-0.286</td>\n",
       "      <td>-0.146</td>\n",
       "      <td>0</td>\n",
       "    </tr>\n",
       "    <tr>\n",
       "      <th>1</th>\n",
       "      <td>1.414</td>\n",
       "      <td>-1.233</td>\n",
       "      <td>-1.080</td>\n",
       "      <td>0.847</td>\n",
       "      <td>1.787</td>\n",
       "      <td>-0.468</td>\n",
       "      <td>-0.398</td>\n",
       "      <td>-0.383</td>\n",
       "      <td>-0.339</td>\n",
       "      <td>-0.309</td>\n",
       "      <td>-0.317</td>\n",
       "      <td>-0.687</td>\n",
       "      <td>-0.661</td>\n",
       "      <td>-0.666</td>\n",
       "      <td>-0.660</td>\n",
       "      <td>-0.644</td>\n",
       "      <td>-0.566</td>\n",
       "      <td>-0.205</td>\n",
       "      <td>-0.217</td>\n",
       "      <td>-0.243</td>\n",
       "      <td>-0.232</td>\n",
       "      <td>0.029</td>\n",
       "      <td>-0.011</td>\n",
       "      <td>0</td>\n",
       "    </tr>\n",
       "    <tr>\n",
       "      <th>2</th>\n",
       "      <td>0.719</td>\n",
       "      <td>-1.233</td>\n",
       "      <td>0.182</td>\n",
       "      <td>0.847</td>\n",
       "      <td>-0.379</td>\n",
       "      <td>0.842</td>\n",
       "      <td>-0.398</td>\n",
       "      <td>-0.383</td>\n",
       "      <td>-0.339</td>\n",
       "      <td>-0.309</td>\n",
       "      <td>-0.317</td>\n",
       "      <td>-0.648</td>\n",
       "      <td>-0.693</td>\n",
       "      <td>-0.677</td>\n",
       "      <td>-0.644</td>\n",
       "      <td>-0.647</td>\n",
       "      <td>-0.654</td>\n",
       "      <td>-0.341</td>\n",
       "      <td>-0.247</td>\n",
       "      <td>-0.184</td>\n",
       "      <td>-0.241</td>\n",
       "      <td>-0.311</td>\n",
       "      <td>-0.292</td>\n",
       "      <td>0</td>\n",
       "    </tr>\n",
       "    <tr>\n",
       "      <th>3</th>\n",
       "      <td>0.873</td>\n",
       "      <td>0.811</td>\n",
       "      <td>0.182</td>\n",
       "      <td>0.847</td>\n",
       "      <td>-0.596</td>\n",
       "      <td>-0.468</td>\n",
       "      <td>-0.398</td>\n",
       "      <td>-0.383</td>\n",
       "      <td>-0.339</td>\n",
       "      <td>-0.309</td>\n",
       "      <td>-0.317</td>\n",
       "      <td>0.140</td>\n",
       "      <td>0.060</td>\n",
       "      <td>-0.423</td>\n",
       "      <td>-0.674</td>\n",
       "      <td>-0.574</td>\n",
       "      <td>-0.654</td>\n",
       "      <td>0.130</td>\n",
       "      <td>-0.074</td>\n",
       "      <td>-0.291</td>\n",
       "      <td>0.040</td>\n",
       "      <td>-0.311</td>\n",
       "      <td>-0.273</td>\n",
       "      <td>0</td>\n",
       "    </tr>\n",
       "    <tr>\n",
       "      <th>4</th>\n",
       "      <td>-0.672</td>\n",
       "      <td>0.811</td>\n",
       "      <td>0.182</td>\n",
       "      <td>-1.070</td>\n",
       "      <td>-1.137</td>\n",
       "      <td>-0.468</td>\n",
       "      <td>-0.398</td>\n",
       "      <td>-0.383</td>\n",
       "      <td>-0.339</td>\n",
       "      <td>-0.309</td>\n",
       "      <td>-0.317</td>\n",
       "      <td>0.342</td>\n",
       "      <td>0.388</td>\n",
       "      <td>-0.014</td>\n",
       "      <td>0.076</td>\n",
       "      <td>0.129</td>\n",
       "      <td>0.155</td>\n",
       "      <td>-0.204</td>\n",
       "      <td>-0.156</td>\n",
       "      <td>-0.114</td>\n",
       "      <td>-0.178</td>\n",
       "      <td>-0.182</td>\n",
       "      <td>-0.179</td>\n",
       "      <td>0</td>\n",
       "    </tr>\n",
       "  </tbody>\n",
       "</table>\n",
       "</div>"
      ],
      "text/plain": [
       "   LIMIT_BAL    SEX  EDUCATION  MARRIAGE    AGE  PAY_0  PAY_2  PAY_3  PAY_4  \\\n",
       "0     -0.286  0.811      0.182     0.847 -0.812 -0.468 -0.398 -0.383 -0.339   \n",
       "1      1.414 -1.233     -1.080     0.847  1.787 -0.468 -0.398 -0.383 -0.339   \n",
       "2      0.719 -1.233      0.182     0.847 -0.379  0.842 -0.398 -0.383 -0.339   \n",
       "3      0.873  0.811      0.182     0.847 -0.596 -0.468 -0.398 -0.383 -0.339   \n",
       "4     -0.672  0.811      0.182    -1.070 -1.137 -0.468 -0.398 -0.383 -0.339   \n",
       "\n",
       "   PAY_5  PAY_6  BILL_AMT1  BILL_AMT2  BILL_AMT3  BILL_AMT4  BILL_AMT5  \\\n",
       "0 -0.309 -0.317     -0.691     -0.589     -0.671     -0.610     -0.654   \n",
       "1 -0.309 -0.317     -0.687     -0.661     -0.666     -0.660     -0.644   \n",
       "2 -0.309 -0.317     -0.648     -0.693     -0.677     -0.644     -0.647   \n",
       "3 -0.309 -0.317      0.140      0.060     -0.423     -0.674     -0.574   \n",
       "4 -0.309 -0.317      0.342      0.388     -0.014      0.076      0.129   \n",
       "\n",
       "   BILL_AMT6  PAY_AMT1  PAY_AMT2  PAY_AMT3  PAY_AMT4  PAY_AMT5  PAY_AMT6  \\\n",
       "0     -0.648     0.101    -0.231    -0.063    -0.270    -0.286    -0.146   \n",
       "1     -0.566    -0.205    -0.217    -0.243    -0.232     0.029    -0.011   \n",
       "2     -0.654    -0.341    -0.247    -0.184    -0.241    -0.311    -0.292   \n",
       "3     -0.654     0.130    -0.074    -0.291     0.040    -0.311    -0.273   \n",
       "4      0.155    -0.204    -0.156    -0.114    -0.178    -0.182    -0.179   \n",
       "\n",
       "   default payment next month  \n",
       "0                           0  \n",
       "1                           0  \n",
       "2                           0  \n",
       "3                           0  \n",
       "4                           0  "
      ]
     },
     "execution_count": 4,
     "metadata": {},
     "output_type": "execute_result"
    }
   ],
   "source": [
    "train_df.head()"
   ]
  },
  {
   "cell_type": "markdown",
   "metadata": {},
   "source": [
    "### 2. Creating 5-folds for cross validation in the dataset "
   ]
  },
  {
   "cell_type": "code",
   "execution_count": 5,
   "metadata": {},
   "outputs": [],
   "source": [
    "target = \"default payment next month\""
   ]
  },
  {
   "cell_type": "code",
   "execution_count": 6,
   "metadata": {},
   "outputs": [],
   "source": [
    "def create_stratified_folds(data, k_fold_num, target_variable):\n",
    "    data[\"kfold\"] = -1 # we create a new column called kfold and fill it with -1\n",
    "    data = data.sample(frac=1).reset_index(drop=True) # the next step is to randomize the rows of the data\n",
    "\n",
    "    y = data[target_variable].values\n",
    "\n",
    "    kf = model_selection.StratifiedKFold(n_splits= k_fold_num)\n",
    "\n",
    "    for fold, (trn_, partitioned_idx_) in enumerate(kf.split(X=data, y = y)):\n",
    "        data.loc[partitioned_idx_, 'kfold'] = fold\n",
    "    return(data)"
   ]
  },
  {
   "cell_type": "code",
   "execution_count": 9,
   "metadata": {},
   "outputs": [],
   "source": [
    "# Creating stratified k-fold within the data\n",
    "df = train_df.copy()\n",
    "\n",
    "k_fold_num = 5\n",
    "\n",
    "df = create_stratified_folds(df, k_fold_num = 5, target_variable = target)\n",
    "\n",
    "features = [f for f in df.columns if f not in [\"kfold\",target]]"
   ]
  },
  {
   "cell_type": "code",
   "execution_count": 10,
   "metadata": {},
   "outputs": [
    {
     "data": {
      "text/plain": [
       "0    4800\n",
       "1    4800\n",
       "2    4800\n",
       "3    4800\n",
       "4    4800\n",
       "Name: kfold, dtype: int64"
      ]
     },
     "execution_count": 10,
     "metadata": {},
     "output_type": "execute_result"
    }
   ],
   "source": [
    "df.kfold.value_counts()"
   ]
  },
  {
   "cell_type": "markdown",
   "metadata": {},
   "source": [
    "### 3. Definig several classification Machine Learning models "
   ]
  },
  {
   "cell_type": "markdown",
   "metadata": {},
   "source": [
    "##### defining models"
   ]
  },
  {
   "cell_type": "markdown",
   "metadata": {},
   "source": [
    "##### Performance metric : Accuracy"
   ]
  },
  {
   "cell_type": "code",
   "execution_count": 11,
   "metadata": {},
   "outputs": [],
   "source": [
    "## Initializing some Vanila models for performance comparision\n",
    "\n",
    "models = []\n",
    "models.append(('Logistic Regression', LogisticRegression()))\n",
    "models.append(('Decision Tree', DecisionTreeClassifier(max_depth = 20)))\n",
    "models.append(('Random Forest', RandomForestClassifier(n_estimators=250, n_jobs=-1))) # setting n_jobs = -1 to utilze all cores for training \n",
    "models.append(('K-Nearest Neighbors', KNeighborsClassifier(n_neighbors=11, n_jobs=-1)))\n",
    "models.append(('Ada Boost', AdaBoostClassifier(n_estimators=250)))"
   ]
  },
  {
   "cell_type": "code",
   "execution_count": 12,
   "metadata": {},
   "outputs": [],
   "source": [
    "# for name, model in models:\n",
    "#     print(name)\n",
    "#     print(model)\n",
    "#     print(\"\\n\")"
   ]
  },
  {
   "cell_type": "markdown",
   "metadata": {},
   "source": [
    "### 4. Training above models on the train data with 5-fold cross validation and recording F1 score in each fold"
   ]
  },
  {
   "cell_type": "code",
   "execution_count": 13,
   "metadata": {},
   "outputs": [
    {
     "data": {
      "text/plain": [
       "array([0.12433548, 0.13094848, 0.25544678, ..., 0.18312633, 0.09675561,\n",
       "       0.11005867])"
      ]
     },
     "execution_count": 13,
     "metadata": {},
     "output_type": "execute_result"
    }
   ],
   "source": [
    "LogisticRegression().fit(train_df.iloc[:,:-1], train_df.iloc[:,-1]).predict_proba(train_df.iloc[:,:-1])[:,1]"
   ]
  },
  {
   "cell_type": "code",
   "execution_count": 14,
   "metadata": {},
   "outputs": [
    {
     "name": "stdout",
     "output_type": "stream",
     "text": [
      "Model :  Logistic Regression\n",
      "Average F1 score =  0.44\n",
      "Time Taken in minutes =  0.0\n",
      "\n",
      "\n",
      "Model :  Decision Tree\n",
      "Average F1 score =  0.41\n",
      "Time Taken in minutes =  0.02\n",
      "\n",
      "\n",
      "Model :  Random Forest\n",
      "Average F1 score =  0.46\n",
      "Time Taken in minutes =  0.08\n",
      "\n",
      "\n",
      "Model :  K-Nearest Neighbors\n",
      "Average F1 score =  0.44\n",
      "Time Taken in minutes =  0.26\n",
      "\n",
      "\n",
      "Model :  Ada Boost\n",
      "Average F1 score =  0.44\n",
      "Time Taken in minutes =  0.51\n",
      "\n",
      "\n"
     ]
    }
   ],
   "source": [
    "F1_score_results = {}\n",
    "time_taken = {}\n",
    "\n",
    "for name, model in models:\n",
    "    t0 = perf_counter()\n",
    "    \n",
    "    f1_scores = []\n",
    "    for fold in range(k_fold_num):\n",
    "        df_train = df[df.kfold != fold].reset_index(drop=True)\n",
    "        df_valid = df[df.kfold == fold].reset_index(drop=True)\n",
    "\n",
    "        x_train = df_train[features].values\n",
    "        x_valid = df_valid[features].values\n",
    "        \n",
    "        model.fit(x_train, df_train[target].values)\n",
    "        \n",
    "        valid_pred = model.predict(x_valid)\n",
    "        \n",
    "        f1 = f1_score(df_valid[target].values, valid_pred)\n",
    "        f1_scores.append(np.round(f1,4))\n",
    "        \n",
    "    t1 = perf_counter()\n",
    "    \n",
    "    F1_score_results[name] = f1_scores\n",
    "    time_taken[name] = np.round((t1 - t0)/60,2)\n",
    "    \n",
    "    print(\"Model : \", name)\n",
    "    print(\"Average F1 score = \", np.round(np.mean(f1_scores),2))\n",
    "    print(\"Time Taken in minutes = \", time_taken[name])\n",
    "    print(\"\\n\")"
   ]
  },
  {
   "cell_type": "code",
   "execution_count": 15,
   "metadata": {},
   "outputs": [
    {
     "data": {
      "text/plain": [
       "{'Logistic Regression': [0.4586, 0.4396, 0.4258, 0.4576, 0.4015],\n",
       " 'Decision Tree': [0.414, 0.4163, 0.3792, 0.4234, 0.3967],\n",
       " 'Random Forest': [0.4818, 0.4668, 0.4402, 0.4714, 0.4464],\n",
       " 'K-Nearest Neighbors': [0.461, 0.4453, 0.4251, 0.4591, 0.4192],\n",
       " 'Ada Boost': [0.4518, 0.4585, 0.4243, 0.4524, 0.4104]}"
      ]
     },
     "execution_count": 15,
     "metadata": {},
     "output_type": "execute_result"
    }
   ],
   "source": [
    "# 5 fold cross validation f1 scores of above models\n",
    "F1_score_results"
   ]
  },
  {
   "cell_type": "code",
   "execution_count": 16,
   "metadata": {},
   "outputs": [
    {
     "data": {
      "text/plain": [
       "{'Logistic Regression': 0.0,\n",
       " 'Decision Tree': 0.02,\n",
       " 'Random Forest': 0.08,\n",
       " 'K-Nearest Neighbors': 0.26,\n",
       " 'Ada Boost': 0.51}"
      ]
     },
     "execution_count": 16,
     "metadata": {},
     "output_type": "execute_result"
    }
   ],
   "source": [
    "time_taken"
   ]
  },
  {
   "cell_type": "code",
   "execution_count": null,
   "metadata": {},
   "outputs": [],
   "source": []
  },
  {
   "cell_type": "markdown",
   "metadata": {},
   "source": [
    "### 5. \"Perfomance\" & \"Time taken to train\" Comparision for selecting best performing classifier"
   ]
  },
  {
   "cell_type": "markdown",
   "metadata": {},
   "source": [
    "##### Plotting the F1_score_results ditribution for comparing the algorithms"
   ]
  },
  {
   "cell_type": "code",
   "execution_count": 17,
   "metadata": {},
   "outputs": [
    {
     "data": {
      "text/plain": [
       "Text(0.5, 0, 'Model')"
      ]
     },
     "execution_count": 17,
     "metadata": {},
     "output_type": "execute_result"
    },
    {
     "data": {
      "image/png": "[encoded data removed]",
      "text/plain": [
       "<Figure size 720x432 with 1 Axes>"
      ]
     },
     "metadata": {
      "needs_background": "light"
     },
     "output_type": "display_data"
    }
   ],
   "source": [
    "Accuracy_score_results_df = pd.DataFrame(F1_score_results)\n",
    "plt.figure(figsize=(10, 6))\n",
    "sns.boxplot(data=Accuracy_score_results_df)\n",
    "sns.swarmplot(data=Accuracy_score_results_df, color = \"black\")\n",
    "plt.title(\"F1 score comparision, 5 fold CV : Original Data\")\n",
    "plt.ylabel(\"F1 score\")\n",
    "plt.xlabel(\"Model\")"
   ]
  },
  {
   "cell_type": "markdown",
   "metadata": {},
   "source": [
    "##### Plotting the time taken in training 5fold CV for comparing the algorithms"
   ]
  },
  {
   "cell_type": "code",
   "execution_count": 18,
   "metadata": {},
   "outputs": [
    {
     "data": {
      "image/png": "[encoded data removed]",
      "text/plain": [
       "<Figure size 432x288 with 1 Axes>"
      ]
     },
     "metadata": {
      "needs_background": "light"
     },
     "output_type": "display_data"
    }
   ],
   "source": [
    "plt.bar(*zip(*time_taken.items()), )\n",
    "plt.ylabel(\"Time taken (in Minutes)\")\n",
    "plt.xticks(rotation=90)\n",
    "plt.show()"
   ]
  },
  {
   "cell_type": "markdown",
   "metadata": {},
   "source": [
    "#### From above 2 charts, I am selecting RandomForest to be the best classifier for training the model. "
   ]
  },
  {
   "cell_type": "markdown",
   "metadata": {},
   "source": [
    "##### Next, We will tune the Hyperparameters of the Random Forest Model in hope to increase the performance of the classifier"
   ]
  },
  {
   "cell_type": "code",
   "execution_count": null,
   "metadata": {},
   "outputs": [],
   "source": []
  },
  {
   "cell_type": "code",
   "execution_count": null,
   "metadata": {},
   "outputs": [],
   "source": []
  },
  {
   "cell_type": "code",
   "execution_count": null,
   "metadata": {},
   "outputs": [],
   "source": []
  },
  {
   "cell_type": "code",
   "execution_count": null,
   "metadata": {},
   "outputs": [],
   "source": []
  },
  {
   "cell_type": "code",
   "execution_count": null,
   "metadata": {},
   "outputs": [],
   "source": []
  }
 ],
 "metadata": {
  "kernelspec": {
   "display_name": "Python 3 (ipykernel)",
   "language": "python",
   "name": "python3"
  },
  "language_info": {
   "codemirror_mode": {
    "name": "ipython",
    "version": 3
   },
   "file_extension": ".py",
   "mimetype": "text/x-python",
   "name": "python",
   "nbconvert_exporter": "python",
   "pygments_lexer": "ipython3",
   "version": "3.9.7"
  }
 },
 "nbformat": 4,
 "nbformat_minor": 4
}
