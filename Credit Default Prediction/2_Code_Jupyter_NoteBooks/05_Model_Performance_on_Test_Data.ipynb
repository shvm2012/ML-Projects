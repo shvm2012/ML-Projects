{
 "cells": [
  {
   "cell_type": "markdown",
   "metadata": {},
   "source": [
    "### NoteBook Contents :\n",
    "        > 1. Loading the Preprocessed, transformed & Scaled Test Data\n",
    "        > 2. Loading saved Model\n",
    "        > 3. Prediction on test set"
   ]
  },
  {
   "cell_type": "markdown",
   "metadata": {},
   "source": [
    "#### Importing Essential Data handling libraries"
   ]
  },
  {
   "cell_type": "code",
   "execution_count": 1,
   "metadata": {},
   "outputs": [
    {
     "data": {
      "text/html": [
       "<style>.container { width:100% !important; }</style>"
      ],
      "text/plain": [
       "<IPython.core.display.HTML object>"
      ]
     },
     "metadata": {},
     "output_type": "display_data"
    }
   ],
   "source": [
    "import pandas as pd\n",
    "import numpy as np\n",
    "\n",
    "import matplotlib as mpl\n",
    "import matplotlib.pyplot as plt\n",
    "import seaborn as sns\n",
    "\n",
    "import warnings\n",
    "warnings.filterwarnings(\"ignore\")\n",
    "\n",
    "%matplotlib inline\n",
    "\n",
    "import time\n",
    "from math import floor\n",
    "from time import perf_counter\n",
    "from tqdm import tqdm\n",
    "\n",
    "pd.set_option('display.max_columns', 100)\n",
    "pd.set_option('display.float_format', lambda x: '%.3f' % x)\n",
    "\n",
    "from IPython.core.display import display, HTML\n",
    "display(HTML(\"<style>.container { width:100% !important; }</style>\"))"
   ]
  },
  {
   "cell_type": "code",
   "execution_count": 11,
   "metadata": {},
   "outputs": [],
   "source": [
    "from sklearn.metrics import confusion_matrix\n",
    "from sklearn.metrics import classification_report"
   ]
  },
  {
   "cell_type": "code",
   "execution_count": 3,
   "metadata": {},
   "outputs": [],
   "source": [
    "from sklearn.ensemble import RandomForestClassifier\n",
    "import joblib"
   ]
  },
  {
   "cell_type": "markdown",
   "metadata": {},
   "source": [
    "### 1. Loading the Preprocessed, transformed & Scaled Test Data"
   ]
  },
  {
   "cell_type": "code",
   "execution_count": 5,
   "metadata": {},
   "outputs": [],
   "source": [
    "test_df = pd.read_csv(\"..\\\\1_Modeling_Data_After_Transformations_TestTrainSplits\\\\Testing_data_std.csv\") ## looking for dataset up one directory"
   ]
  },
  {
   "cell_type": "code",
   "execution_count": 6,
   "metadata": {},
   "outputs": [
    {
     "data": {
      "text/html": [
       "<div>\n",
       "<style scoped>\n",
       "    .dataframe tbody tr th:only-of-type {\n",
       "        vertical-align: middle;\n",
       "    }\n",
       "\n",
       "    .dataframe tbody tr th {\n",
       "        vertical-align: top;\n",
       "    }\n",
       "\n",
       "    .dataframe thead th {\n",
       "        text-align: right;\n",
       "    }\n",
       "</style>\n",
       "<table border=\"1\" class=\"dataframe\">\n",
       "  <thead>\n",
       "    <tr style=\"text-align: right;\">\n",
       "      <th></th>\n",
       "      <th>LIMIT_BAL</th>\n",
       "      <th>SEX</th>\n",
       "      <th>EDUCATION</th>\n",
       "      <th>MARRIAGE</th>\n",
       "      <th>AGE</th>\n",
       "      <th>PAY_0</th>\n",
       "      <th>PAY_2</th>\n",
       "      <th>PAY_3</th>\n",
       "      <th>PAY_4</th>\n",
       "      <th>PAY_5</th>\n",
       "      <th>PAY_6</th>\n",
       "      <th>BILL_AMT1</th>\n",
       "      <th>BILL_AMT2</th>\n",
       "      <th>BILL_AMT3</th>\n",
       "      <th>BILL_AMT4</th>\n",
       "      <th>BILL_AMT5</th>\n",
       "      <th>BILL_AMT6</th>\n",
       "      <th>PAY_AMT1</th>\n",
       "      <th>PAY_AMT2</th>\n",
       "      <th>PAY_AMT3</th>\n",
       "      <th>PAY_AMT4</th>\n",
       "      <th>PAY_AMT5</th>\n",
       "      <th>PAY_AMT6</th>\n",
       "      <th>default payment next month</th>\n",
       "    </tr>\n",
       "  </thead>\n",
       "  <tbody>\n",
       "    <tr>\n",
       "      <th>0</th>\n",
       "      <td>-0.904</td>\n",
       "      <td>-1.233</td>\n",
       "      <td>1.443</td>\n",
       "      <td>2.764</td>\n",
       "      <td>2.112</td>\n",
       "      <td>-0.468</td>\n",
       "      <td>-0.398</td>\n",
       "      <td>-0.383</td>\n",
       "      <td>-0.339</td>\n",
       "      <td>-0.309</td>\n",
       "      <td>-0.317</td>\n",
       "      <td>-0.075</td>\n",
       "      <td>-0.110</td>\n",
       "      <td>-0.080</td>\n",
       "      <td>-0.472</td>\n",
       "      <td>-0.397</td>\n",
       "      <td>-0.403</td>\n",
       "      <td>-0.223</td>\n",
       "      <td>-0.170</td>\n",
       "      <td>-0.267</td>\n",
       "      <td>0.010</td>\n",
       "      <td>-0.273</td>\n",
       "      <td>-0.254</td>\n",
       "      <td>1</td>\n",
       "    </tr>\n",
       "    <tr>\n",
       "      <th>1</th>\n",
       "      <td>-1.214</td>\n",
       "      <td>0.811</td>\n",
       "      <td>0.182</td>\n",
       "      <td>0.847</td>\n",
       "      <td>-1.462</td>\n",
       "      <td>-0.468</td>\n",
       "      <td>-0.398</td>\n",
       "      <td>-0.383</td>\n",
       "      <td>-0.339</td>\n",
       "      <td>-0.309</td>\n",
       "      <td>-0.317</td>\n",
       "      <td>-0.687</td>\n",
       "      <td>-0.570</td>\n",
       "      <td>-0.538</td>\n",
       "      <td>-0.526</td>\n",
       "      <td>-0.516</td>\n",
       "      <td>-0.492</td>\n",
       "      <td>0.263</td>\n",
       "      <td>-0.197</td>\n",
       "      <td>-0.269</td>\n",
       "      <td>-0.284</td>\n",
       "      <td>-0.207</td>\n",
       "      <td>-0.275</td>\n",
       "      <td>0</td>\n",
       "    </tr>\n",
       "    <tr>\n",
       "      <th>2</th>\n",
       "      <td>-0.131</td>\n",
       "      <td>0.811</td>\n",
       "      <td>1.443</td>\n",
       "      <td>-1.070</td>\n",
       "      <td>1.354</td>\n",
       "      <td>-0.468</td>\n",
       "      <td>-0.398</td>\n",
       "      <td>-0.383</td>\n",
       "      <td>-0.339</td>\n",
       "      <td>-0.309</td>\n",
       "      <td>-0.317</td>\n",
       "      <td>-0.564</td>\n",
       "      <td>-0.693</td>\n",
       "      <td>-0.657</td>\n",
       "      <td>-0.652</td>\n",
       "      <td>-0.612</td>\n",
       "      <td>-0.635</td>\n",
       "      <td>-0.341</td>\n",
       "      <td>-0.190</td>\n",
       "      <td>-0.214</td>\n",
       "      <td>-0.108</td>\n",
       "      <td>-0.237</td>\n",
       "      <td>-0.264</td>\n",
       "      <td>0</td>\n",
       "    </tr>\n",
       "    <tr>\n",
       "      <th>3</th>\n",
       "      <td>-1.136</td>\n",
       "      <td>-1.233</td>\n",
       "      <td>0.182</td>\n",
       "      <td>0.847</td>\n",
       "      <td>-1.354</td>\n",
       "      <td>-0.468</td>\n",
       "      <td>-0.398</td>\n",
       "      <td>-0.383</td>\n",
       "      <td>-0.339</td>\n",
       "      <td>-0.309</td>\n",
       "      <td>-0.317</td>\n",
       "      <td>-0.438</td>\n",
       "      <td>-0.412</td>\n",
       "      <td>-0.417</td>\n",
       "      <td>-0.378</td>\n",
       "      <td>-0.378</td>\n",
       "      <td>-0.354</td>\n",
       "      <td>-0.263</td>\n",
       "      <td>-0.189</td>\n",
       "      <td>-0.219</td>\n",
       "      <td>-0.260</td>\n",
       "      <td>-0.259</td>\n",
       "      <td>-0.236</td>\n",
       "      <td>1</td>\n",
       "    </tr>\n",
       "    <tr>\n",
       "      <th>4</th>\n",
       "      <td>0.100</td>\n",
       "      <td>0.811</td>\n",
       "      <td>-1.080</td>\n",
       "      <td>0.847</td>\n",
       "      <td>-0.704</td>\n",
       "      <td>-0.468</td>\n",
       "      <td>-0.398</td>\n",
       "      <td>-0.383</td>\n",
       "      <td>-0.339</td>\n",
       "      <td>-0.309</td>\n",
       "      <td>-0.317</td>\n",
       "      <td>-0.211</td>\n",
       "      <td>-0.372</td>\n",
       "      <td>-0.501</td>\n",
       "      <td>-0.526</td>\n",
       "      <td>-0.497</td>\n",
       "      <td>-0.654</td>\n",
       "      <td>-0.237</td>\n",
       "      <td>-0.197</td>\n",
       "      <td>-0.207</td>\n",
       "      <td>-0.084</td>\n",
       "      <td>-0.311</td>\n",
       "      <td>-0.292</td>\n",
       "      <td>0</td>\n",
       "    </tr>\n",
       "  </tbody>\n",
       "</table>\n",
       "</div>"
      ],
      "text/plain": [
       "   LIMIT_BAL    SEX  EDUCATION  MARRIAGE    AGE  PAY_0  PAY_2  PAY_3  PAY_4  \\\n",
       "0     -0.904 -1.233      1.443     2.764  2.112 -0.468 -0.398 -0.383 -0.339   \n",
       "1     -1.214  0.811      0.182     0.847 -1.462 -0.468 -0.398 -0.383 -0.339   \n",
       "2     -0.131  0.811      1.443    -1.070  1.354 -0.468 -0.398 -0.383 -0.339   \n",
       "3     -1.136 -1.233      0.182     0.847 -1.354 -0.468 -0.398 -0.383 -0.339   \n",
       "4      0.100  0.811     -1.080     0.847 -0.704 -0.468 -0.398 -0.383 -0.339   \n",
       "\n",
       "   PAY_5  PAY_6  BILL_AMT1  BILL_AMT2  BILL_AMT3  BILL_AMT4  BILL_AMT5  \\\n",
       "0 -0.309 -0.317     -0.075     -0.110     -0.080     -0.472     -0.397   \n",
       "1 -0.309 -0.317     -0.687     -0.570     -0.538     -0.526     -0.516   \n",
       "2 -0.309 -0.317     -0.564     -0.693     -0.657     -0.652     -0.612   \n",
       "3 -0.309 -0.317     -0.438     -0.412     -0.417     -0.378     -0.378   \n",
       "4 -0.309 -0.317     -0.211     -0.372     -0.501     -0.526     -0.497   \n",
       "\n",
       "   BILL_AMT6  PAY_AMT1  PAY_AMT2  PAY_AMT3  PAY_AMT4  PAY_AMT5  PAY_AMT6  \\\n",
       "0     -0.403    -0.223    -0.170    -0.267     0.010    -0.273    -0.254   \n",
       "1     -0.492     0.263    -0.197    -0.269    -0.284    -0.207    -0.275   \n",
       "2     -0.635    -0.341    -0.190    -0.214    -0.108    -0.237    -0.264   \n",
       "3     -0.354    -0.263    -0.189    -0.219    -0.260    -0.259    -0.236   \n",
       "4     -0.654    -0.237    -0.197    -0.207    -0.084    -0.311    -0.292   \n",
       "\n",
       "   default payment next month  \n",
       "0                           1  \n",
       "1                           0  \n",
       "2                           0  \n",
       "3                           1  \n",
       "4                           0  "
      ]
     },
     "execution_count": 6,
     "metadata": {},
     "output_type": "execute_result"
    }
   ],
   "source": [
    "test_df.head()"
   ]
  },
  {
   "cell_type": "code",
   "execution_count": 7,
   "metadata": {},
   "outputs": [],
   "source": [
    "target = \"default payment next month\""
   ]
  },
  {
   "cell_type": "code",
   "execution_count": 8,
   "metadata": {},
   "outputs": [],
   "source": [
    "X_test = test_df.drop(target, axis = 1).values\n",
    "y_test = test_df[target].values"
   ]
  },
  {
   "cell_type": "markdown",
   "metadata": {},
   "source": [
    "###  2. Loading saved Model"
   ]
  },
  {
   "cell_type": "code",
   "execution_count": 9,
   "metadata": {},
   "outputs": [],
   "source": [
    "model_path = '..\\\\3_Saved_Models\\\\Random_Forest_Model_standard_scaled_data_v1.sav'\n",
    "model = joblib.load(model_path)"
   ]
  },
  {
   "cell_type": "markdown",
   "metadata": {},
   "source": [
    "### 3. Prediction on test set and compute Accuracy score"
   ]
  },
  {
   "cell_type": "code",
   "execution_count": 10,
   "metadata": {},
   "outputs": [],
   "source": [
    "y_pred = model.predict(X_test)"
   ]
  },
  {
   "cell_type": "code",
   "execution_count": 13,
   "metadata": {},
   "outputs": [
    {
     "name": "stdout",
     "output_type": "stream",
     "text": [
      "              precision    recall  f1-score   support\n",
      "\n",
      "           0       0.84      0.95      0.89      4672\n",
      "           1       0.69      0.37      0.48      1328\n",
      "\n",
      "    accuracy                           0.82      6000\n",
      "   macro avg       0.77      0.66      0.69      6000\n",
      "weighted avg       0.81      0.82      0.80      6000\n",
      "\n"
     ]
    }
   ],
   "source": [
    "print(classification_report(y_test, y_pred))"
   ]
  },
  {
   "cell_type": "code",
   "execution_count": 14,
   "metadata": {},
   "outputs": [
    {
     "name": "stdout",
     "output_type": "stream",
     "text": [
      "[[4456  216]\n",
      " [ 843  485]]\n"
     ]
    }
   ],
   "source": [
    "print(confusion_matrix(y_test, y_pred))"
   ]
  },
  {
   "cell_type": "code",
   "execution_count": null,
   "metadata": {},
   "outputs": [],
   "source": []
  },
  {
   "cell_type": "code",
   "execution_count": null,
   "metadata": {},
   "outputs": [],
   "source": []
  }
 ],
 "metadata": {
  "kernelspec": {
   "display_name": "Python 3 (ipykernel)",
   "language": "python",
   "name": "python3"
  },
  "language_info": {
   "codemirror_mode": {
    "name": "ipython",
    "version": 3
   },
   "file_extension": ".py",
   "mimetype": "text/x-python",
   "name": "python",
   "nbconvert_exporter": "python",
   "pygments_lexer": "ipython3",
   "version": "3.9.7"
  }
 },
 "nbformat": 4,
 "nbformat_minor": 4
}
