{
 "cells": [
  {
   "cell_type": "markdown",
   "metadata": {},
   "source": [
    "### NoteBook Contents :\n",
    "        > 1. Loading the Standard Scaled training data\n",
    "        > 2. HyperParameter Tuning using Randomizaed Grid Search 5 Fold Cross Validation\n",
    "        > 3. Training Best Classifier on the whole Trainig Data\n",
    "        > 4. Saving the trained Model into the subdirectory"
   ]
  },
  {
   "cell_type": "markdown",
   "metadata": {},
   "source": [
    "#### Importing Essential Data handling libraries"
   ]
  },
  {
   "cell_type": "code",
   "execution_count": 1,
   "metadata": {},
   "outputs": [
    {
     "data": {
      "text/html": [
       "<style>.container { width:100% !important; }</style>"
      ],
      "text/plain": [
       "<IPython.core.display.HTML object>"
      ]
     },
     "metadata": {},
     "output_type": "display_data"
    }
   ],
   "source": [
    "import pandas as pd\n",
    "import numpy as np\n",
    "\n",
    "import matplotlib as mpl\n",
    "import matplotlib.pyplot as plt\n",
    "import seaborn as sns\n",
    "\n",
    "import warnings\n",
    "warnings.filterwarnings(\"ignore\")\n",
    "\n",
    "%matplotlib inline\n",
    "\n",
    "import time\n",
    "from math import floor\n",
    "from time import perf_counter\n",
    "from tqdm import tqdm\n",
    "\n",
    "pd.set_option('display.max_columns', 100)\n",
    "pd.set_option('display.float_format', lambda x: '%.3f' % x)\n",
    "\n",
    "from IPython.core.display import display, HTML\n",
    "display(HTML(\"<style>.container { width:100% !important; }</style>\"))"
   ]
  },
  {
   "cell_type": "code",
   "execution_count": 2,
   "metadata": {},
   "outputs": [],
   "source": [
    "from sklearn.model_selection import train_test_split\n",
    "from sklearn.model_selection import KFold\n",
    "from sklearn.model_selection import cross_val_score\n",
    "from sklearn import model_selection\n",
    "\n",
    "from sklearn.metrics import f1_score"
   ]
  },
  {
   "cell_type": "code",
   "execution_count": 3,
   "metadata": {},
   "outputs": [],
   "source": [
    "from sklearn.ensemble import RandomForestClassifier\n",
    "import joblib"
   ]
  },
  {
   "cell_type": "markdown",
   "metadata": {},
   "source": [
    "### 1. Loading the Standard Scaled training data"
   ]
  },
  {
   "cell_type": "code",
   "execution_count": 4,
   "metadata": {},
   "outputs": [],
   "source": [
    "train_df = pd.read_csv(\"..\\\\1_Modeling_Data_After_Transformations_TestTrainSplits\\\\Training_data_std.csv\") ## looking for dataset up one directory"
   ]
  },
  {
   "cell_type": "code",
   "execution_count": 5,
   "metadata": {},
   "outputs": [
    {
     "data": {
      "text/html": [
       "<div>\n",
       "<style scoped>\n",
       "    .dataframe tbody tr th:only-of-type {\n",
       "        vertical-align: middle;\n",
       "    }\n",
       "\n",
       "    .dataframe tbody tr th {\n",
       "        vertical-align: top;\n",
       "    }\n",
       "\n",
       "    .dataframe thead th {\n",
       "        text-align: right;\n",
       "    }\n",
       "</style>\n",
       "<table border=\"1\" class=\"dataframe\">\n",
       "  <thead>\n",
       "    <tr style=\"text-align: right;\">\n",
       "      <th></th>\n",
       "      <th>LIMIT_BAL</th>\n",
       "      <th>SEX</th>\n",
       "      <th>EDUCATION</th>\n",
       "      <th>MARRIAGE</th>\n",
       "      <th>AGE</th>\n",
       "      <th>PAY_0</th>\n",
       "      <th>PAY_2</th>\n",
       "      <th>PAY_3</th>\n",
       "      <th>PAY_4</th>\n",
       "      <th>PAY_5</th>\n",
       "      <th>PAY_6</th>\n",
       "      <th>BILL_AMT1</th>\n",
       "      <th>BILL_AMT2</th>\n",
       "      <th>BILL_AMT3</th>\n",
       "      <th>BILL_AMT4</th>\n",
       "      <th>BILL_AMT5</th>\n",
       "      <th>BILL_AMT6</th>\n",
       "      <th>PAY_AMT1</th>\n",
       "      <th>PAY_AMT2</th>\n",
       "      <th>PAY_AMT3</th>\n",
       "      <th>PAY_AMT4</th>\n",
       "      <th>PAY_AMT5</th>\n",
       "      <th>PAY_AMT6</th>\n",
       "      <th>default payment next month</th>\n",
       "    </tr>\n",
       "  </thead>\n",
       "  <tbody>\n",
       "    <tr>\n",
       "      <th>0</th>\n",
       "      <td>-0.286</td>\n",
       "      <td>0.811</td>\n",
       "      <td>0.182</td>\n",
       "      <td>0.847</td>\n",
       "      <td>-0.812</td>\n",
       "      <td>-0.468</td>\n",
       "      <td>-0.398</td>\n",
       "      <td>-0.383</td>\n",
       "      <td>-0.339</td>\n",
       "      <td>-0.309</td>\n",
       "      <td>-0.317</td>\n",
       "      <td>-0.691</td>\n",
       "      <td>-0.589</td>\n",
       "      <td>-0.671</td>\n",
       "      <td>-0.610</td>\n",
       "      <td>-0.654</td>\n",
       "      <td>-0.648</td>\n",
       "      <td>0.101</td>\n",
       "      <td>-0.231</td>\n",
       "      <td>-0.063</td>\n",
       "      <td>-0.270</td>\n",
       "      <td>-0.286</td>\n",
       "      <td>-0.146</td>\n",
       "      <td>0</td>\n",
       "    </tr>\n",
       "    <tr>\n",
       "      <th>1</th>\n",
       "      <td>1.414</td>\n",
       "      <td>-1.233</td>\n",
       "      <td>-1.080</td>\n",
       "      <td>0.847</td>\n",
       "      <td>1.787</td>\n",
       "      <td>-0.468</td>\n",
       "      <td>-0.398</td>\n",
       "      <td>-0.383</td>\n",
       "      <td>-0.339</td>\n",
       "      <td>-0.309</td>\n",
       "      <td>-0.317</td>\n",
       "      <td>-0.687</td>\n",
       "      <td>-0.661</td>\n",
       "      <td>-0.666</td>\n",
       "      <td>-0.660</td>\n",
       "      <td>-0.644</td>\n",
       "      <td>-0.566</td>\n",
       "      <td>-0.205</td>\n",
       "      <td>-0.217</td>\n",
       "      <td>-0.243</td>\n",
       "      <td>-0.232</td>\n",
       "      <td>0.029</td>\n",
       "      <td>-0.011</td>\n",
       "      <td>0</td>\n",
       "    </tr>\n",
       "    <tr>\n",
       "      <th>2</th>\n",
       "      <td>0.719</td>\n",
       "      <td>-1.233</td>\n",
       "      <td>0.182</td>\n",
       "      <td>0.847</td>\n",
       "      <td>-0.379</td>\n",
       "      <td>0.842</td>\n",
       "      <td>-0.398</td>\n",
       "      <td>-0.383</td>\n",
       "      <td>-0.339</td>\n",
       "      <td>-0.309</td>\n",
       "      <td>-0.317</td>\n",
       "      <td>-0.648</td>\n",
       "      <td>-0.693</td>\n",
       "      <td>-0.677</td>\n",
       "      <td>-0.644</td>\n",
       "      <td>-0.647</td>\n",
       "      <td>-0.654</td>\n",
       "      <td>-0.341</td>\n",
       "      <td>-0.247</td>\n",
       "      <td>-0.184</td>\n",
       "      <td>-0.241</td>\n",
       "      <td>-0.311</td>\n",
       "      <td>-0.292</td>\n",
       "      <td>0</td>\n",
       "    </tr>\n",
       "    <tr>\n",
       "      <th>3</th>\n",
       "      <td>0.873</td>\n",
       "      <td>0.811</td>\n",
       "      <td>0.182</td>\n",
       "      <td>0.847</td>\n",
       "      <td>-0.596</td>\n",
       "      <td>-0.468</td>\n",
       "      <td>-0.398</td>\n",
       "      <td>-0.383</td>\n",
       "      <td>-0.339</td>\n",
       "      <td>-0.309</td>\n",
       "      <td>-0.317</td>\n",
       "      <td>0.140</td>\n",
       "      <td>0.060</td>\n",
       "      <td>-0.423</td>\n",
       "      <td>-0.674</td>\n",
       "      <td>-0.574</td>\n",
       "      <td>-0.654</td>\n",
       "      <td>0.130</td>\n",
       "      <td>-0.074</td>\n",
       "      <td>-0.291</td>\n",
       "      <td>0.040</td>\n",
       "      <td>-0.311</td>\n",
       "      <td>-0.273</td>\n",
       "      <td>0</td>\n",
       "    </tr>\n",
       "    <tr>\n",
       "      <th>4</th>\n",
       "      <td>-0.672</td>\n",
       "      <td>0.811</td>\n",
       "      <td>0.182</td>\n",
       "      <td>-1.070</td>\n",
       "      <td>-1.137</td>\n",
       "      <td>-0.468</td>\n",
       "      <td>-0.398</td>\n",
       "      <td>-0.383</td>\n",
       "      <td>-0.339</td>\n",
       "      <td>-0.309</td>\n",
       "      <td>-0.317</td>\n",
       "      <td>0.342</td>\n",
       "      <td>0.388</td>\n",
       "      <td>-0.014</td>\n",
       "      <td>0.076</td>\n",
       "      <td>0.129</td>\n",
       "      <td>0.155</td>\n",
       "      <td>-0.204</td>\n",
       "      <td>-0.156</td>\n",
       "      <td>-0.114</td>\n",
       "      <td>-0.178</td>\n",
       "      <td>-0.182</td>\n",
       "      <td>-0.179</td>\n",
       "      <td>0</td>\n",
       "    </tr>\n",
       "  </tbody>\n",
       "</table>\n",
       "</div>"
      ],
      "text/plain": [
       "   LIMIT_BAL    SEX  EDUCATION  MARRIAGE    AGE  PAY_0  PAY_2  PAY_3  PAY_4  \\\n",
       "0     -0.286  0.811      0.182     0.847 -0.812 -0.468 -0.398 -0.383 -0.339   \n",
       "1      1.414 -1.233     -1.080     0.847  1.787 -0.468 -0.398 -0.383 -0.339   \n",
       "2      0.719 -1.233      0.182     0.847 -0.379  0.842 -0.398 -0.383 -0.339   \n",
       "3      0.873  0.811      0.182     0.847 -0.596 -0.468 -0.398 -0.383 -0.339   \n",
       "4     -0.672  0.811      0.182    -1.070 -1.137 -0.468 -0.398 -0.383 -0.339   \n",
       "\n",
       "   PAY_5  PAY_6  BILL_AMT1  BILL_AMT2  BILL_AMT3  BILL_AMT4  BILL_AMT5  \\\n",
       "0 -0.309 -0.317     -0.691     -0.589     -0.671     -0.610     -0.654   \n",
       "1 -0.309 -0.317     -0.687     -0.661     -0.666     -0.660     -0.644   \n",
       "2 -0.309 -0.317     -0.648     -0.693     -0.677     -0.644     -0.647   \n",
       "3 -0.309 -0.317      0.140      0.060     -0.423     -0.674     -0.574   \n",
       "4 -0.309 -0.317      0.342      0.388     -0.014      0.076      0.129   \n",
       "\n",
       "   BILL_AMT6  PAY_AMT1  PAY_AMT2  PAY_AMT3  PAY_AMT4  PAY_AMT5  PAY_AMT6  \\\n",
       "0     -0.648     0.101    -0.231    -0.063    -0.270    -0.286    -0.146   \n",
       "1     -0.566    -0.205    -0.217    -0.243    -0.232     0.029    -0.011   \n",
       "2     -0.654    -0.341    -0.247    -0.184    -0.241    -0.311    -0.292   \n",
       "3     -0.654     0.130    -0.074    -0.291     0.040    -0.311    -0.273   \n",
       "4      0.155    -0.204    -0.156    -0.114    -0.178    -0.182    -0.179   \n",
       "\n",
       "   default payment next month  \n",
       "0                           0  \n",
       "1                           0  \n",
       "2                           0  \n",
       "3                           0  \n",
       "4                           0  "
      ]
     },
     "execution_count": 5,
     "metadata": {},
     "output_type": "execute_result"
    }
   ],
   "source": [
    "train_df.head()"
   ]
  },
  {
   "cell_type": "markdown",
   "metadata": {},
   "source": [
    "### 2. HyperParameter Tuning using Randomizaed Search Cross Validation"
   ]
  },
  {
   "cell_type": "code",
   "execution_count": 6,
   "metadata": {},
   "outputs": [],
   "source": [
    "target = \"default payment next month\""
   ]
  },
  {
   "cell_type": "code",
   "execution_count": 7,
   "metadata": {},
   "outputs": [],
   "source": [
    "X = train_df.drop(target, axis = 1).values\n",
    "y = train_df[target].values"
   ]
  },
  {
   "cell_type": "markdown",
   "metadata": {},
   "source": [
    "##### Defining HyperParameter grid space and Fit classifier with 5 fold cross validation"
   ]
  },
  {
   "cell_type": "code",
   "execution_count": 8,
   "metadata": {},
   "outputs": [],
   "source": [
    "# Number of trees in random forest\n",
    "n_estimators = [250, 300, 400, 500]\n",
    "\n",
    "# Maximum number of levels in tree\n",
    "max_depth = [10, 15 ,20, 25, 30]\n",
    "\n",
    "# Minimum number of samples required to split a node\n",
    "min_samples_split = [2, 5, 10]\n",
    "\n",
    "# Minimum number of samples required at each leaf node\n",
    "min_samples_leaf = [1, 2, 4]\n",
    "\n",
    "# Method of selecting samples for training each tree\n",
    "bootstrap = [True, False]\n",
    "\n",
    "param_grid = {'n_estimators': n_estimators,\n",
    "               'max_depth': max_depth,\n",
    "               'min_samples_split': min_samples_split,\n",
    "               'min_samples_leaf': min_samples_leaf,\n",
    "               'bootstrap': bootstrap}"
   ]
  },
  {
   "cell_type": "code",
   "execution_count": 9,
   "metadata": {},
   "outputs": [
    {
     "data": {
      "text/plain": [
       "{'n_estimators': [250, 300, 400, 500],\n",
       " 'max_depth': [10, 15, 20, 25, 30],\n",
       " 'min_samples_split': [2, 5, 10],\n",
       " 'min_samples_leaf': [1, 2, 4],\n",
       " 'bootstrap': [True, False]}"
      ]
     },
     "execution_count": 9,
     "metadata": {},
     "output_type": "execute_result"
    }
   ],
   "source": [
    "param_grid"
   ]
  },
  {
   "cell_type": "code",
   "execution_count": 10,
   "metadata": {},
   "outputs": [
    {
     "name": "stdout",
     "output_type": "stream",
     "text": [
      "Fitting 3 folds for each of 10 candidates, totalling 30 fits\n"
     ]
    },
    {
     "data": {
      "text/plain": [
       "RandomizedSearchCV(cv=3, estimator=RandomForestClassifier(n_jobs=-1), n_jobs=-1,\n",
       "                   param_distributions={'bootstrap': [True, False],\n",
       "                                        'max_depth': [10, 15, 20, 25, 30],\n",
       "                                        'min_samples_leaf': [1, 2, 4],\n",
       "                                        'min_samples_split': [2, 5, 10],\n",
       "                                        'n_estimators': [250, 300, 400, 500]},\n",
       "                   scoring='f1', verbose=1)"
      ]
     },
     "execution_count": 10,
     "metadata": {},
     "output_type": "execute_result"
    }
   ],
   "source": [
    "classifier = RandomForestClassifier(n_jobs = -1) # utilizing all the cores\n",
    "\n",
    "model = model_selection.RandomizedSearchCV(estimator = classifier,\n",
    "                                           param_distributions = param_grid,\n",
    "                                           n_iter = 10,\n",
    "                                           scoring = \"f1\", \n",
    "                                           verbose = 1,\n",
    "                                           cv = 3,\n",
    "                                           n_jobs = -1)\n",
    "\n",
    "model.fit(X,y)"
   ]
  },
  {
   "cell_type": "code",
   "execution_count": 11,
   "metadata": {},
   "outputs": [
    {
     "name": "stdout",
     "output_type": "stream",
     "text": [
      "0.4641727161334131\n",
      "RandomForestClassifier(max_depth=20, min_samples_split=10, n_estimators=500,\n",
      "                       n_jobs=-1)\n"
     ]
    }
   ],
   "source": [
    "print(model.best_score_)\n",
    "print(model.best_estimator_)"
   ]
  },
  {
   "cell_type": "markdown",
   "metadata": {},
   "source": [
    "### 3. Training Best Classifier on the whole Trainig Data"
   ]
  },
  {
   "cell_type": "code",
   "execution_count": 12,
   "metadata": {},
   "outputs": [],
   "source": [
    "final_model = model.best_estimator_"
   ]
  },
  {
   "cell_type": "code",
   "execution_count": 13,
   "metadata": {},
   "outputs": [
    {
     "data": {
      "text/plain": [
       "RandomForestClassifier(max_depth=20, min_samples_split=10, n_estimators=500,\n",
       "                       n_jobs=-1)"
      ]
     },
     "execution_count": 13,
     "metadata": {},
     "output_type": "execute_result"
    }
   ],
   "source": [
    "final_model.fit(X,y)"
   ]
  },
  {
   "cell_type": "markdown",
   "metadata": {},
   "source": [
    "### 4. Saving the trained Model into the subdirectory"
   ]
  },
  {
   "cell_type": "code",
   "execution_count": 16,
   "metadata": {},
   "outputs": [
    {
     "data": {
      "text/plain": [
       "['..\\\\3_Saved_Models\\\\Random_Forest_Model_standard_scaled_data_v1.sav']"
      ]
     },
     "execution_count": 16,
     "metadata": {},
     "output_type": "execute_result"
    }
   ],
   "source": [
    "# save the model to disk\n",
    "model_name = 'Random_Forest_Model_standard_scaled_data_v1.sav'\n",
    "joblib.dump(final_model, \"..\\\\3_Saved_Models\"+\"\\\\\"+model_name)"
   ]
  },
  {
   "cell_type": "code",
   "execution_count": null,
   "metadata": {},
   "outputs": [],
   "source": []
  },
  {
   "cell_type": "code",
   "execution_count": null,
   "metadata": {},
   "outputs": [],
   "source": []
  },
  {
   "cell_type": "code",
   "execution_count": null,
   "metadata": {},
   "outputs": [],
   "source": []
  }
 ],
 "metadata": {
  "kernelspec": {
   "display_name": "Python 3 (ipykernel)",
   "language": "python",
   "name": "python3"
  },
  "language_info": {
   "codemirror_mode": {
    "name": "ipython",
    "version": 3
   },
   "file_extension": ".py",
   "mimetype": "text/x-python",
   "name": "python",
   "nbconvert_exporter": "python",
   "pygments_lexer": "ipython3",
   "version": "3.9.7"
  }
 },
 "nbformat": 4,
 "nbformat_minor": 4
}
